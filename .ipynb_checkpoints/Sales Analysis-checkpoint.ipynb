{
 "cells": [
  {
   "cell_type": "code",
   "execution_count": 1,
   "id": "2fabfcff",
   "metadata": {},
   "outputs": [],
   "source": [
    "import pandas as pd\n",
    "import numpy as np\n",
    "import seaborn as sns\n",
    "import matplotlib.pyplot as plt\n",
    "import plotly.express as px\n",
    "from geopy.geocoders import Nominatim"
   ]
  },
  {
   "cell_type": "code",
   "execution_count": 4,
   "id": "318aea62",
   "metadata": {},
   "outputs": [
    {
     "data": {
      "text/html": [
       "<div>\n",
       "<style scoped>\n",
       "    .dataframe tbody tr th:only-of-type {\n",
       "        vertical-align: middle;\n",
       "    }\n",
       "\n",
       "    .dataframe tbody tr th {\n",
       "        vertical-align: top;\n",
       "    }\n",
       "\n",
       "    .dataframe thead th {\n",
       "        text-align: right;\n",
       "    }\n",
       "</style>\n",
       "<table border=\"1\" class=\"dataframe\">\n",
       "  <thead>\n",
       "    <tr style=\"text-align: right;\">\n",
       "      <th></th>\n",
       "      <th>ORDERNUMBER</th>\n",
       "      <th>QUANTITYORDERED</th>\n",
       "      <th>PRICEEACH</th>\n",
       "      <th>ORDERLINENUMBER</th>\n",
       "      <th>SALES</th>\n",
       "      <th>ORDERDATE</th>\n",
       "      <th>STATUS</th>\n",
       "      <th>QTR_ID</th>\n",
       "      <th>MONTH_ID</th>\n",
       "      <th>YEAR_ID</th>\n",
       "      <th>...</th>\n",
       "      <th>ADDRESSLINE1</th>\n",
       "      <th>ADDRESSLINE2</th>\n",
       "      <th>CITY</th>\n",
       "      <th>STATE</th>\n",
       "      <th>POSTALCODE</th>\n",
       "      <th>COUNTRY</th>\n",
       "      <th>TERRITORY</th>\n",
       "      <th>CONTACTLASTNAME</th>\n",
       "      <th>CONTACTFIRSTNAME</th>\n",
       "      <th>DEALSIZE</th>\n",
       "    </tr>\n",
       "  </thead>\n",
       "  <tbody>\n",
       "    <tr>\n",
       "      <th>0</th>\n",
       "      <td>10107</td>\n",
       "      <td>30</td>\n",
       "      <td>95.70</td>\n",
       "      <td>2</td>\n",
       "      <td>2871.00</td>\n",
       "      <td>2/24/2003 0:00</td>\n",
       "      <td>Shipped</td>\n",
       "      <td>1</td>\n",
       "      <td>2</td>\n",
       "      <td>2003</td>\n",
       "      <td>...</td>\n",
       "      <td>897 Long Airport Avenue</td>\n",
       "      <td>NaN</td>\n",
       "      <td>NYC</td>\n",
       "      <td>NY</td>\n",
       "      <td>10022</td>\n",
       "      <td>USA</td>\n",
       "      <td>NaN</td>\n",
       "      <td>Yu</td>\n",
       "      <td>Kwai</td>\n",
       "      <td>Small</td>\n",
       "    </tr>\n",
       "    <tr>\n",
       "      <th>1</th>\n",
       "      <td>10121</td>\n",
       "      <td>34</td>\n",
       "      <td>81.35</td>\n",
       "      <td>5</td>\n",
       "      <td>2765.90</td>\n",
       "      <td>5/7/2003 0:00</td>\n",
       "      <td>Shipped</td>\n",
       "      <td>2</td>\n",
       "      <td>5</td>\n",
       "      <td>2003</td>\n",
       "      <td>...</td>\n",
       "      <td>59 rue de l'Abbaye</td>\n",
       "      <td>NaN</td>\n",
       "      <td>Reims</td>\n",
       "      <td>NaN</td>\n",
       "      <td>51100</td>\n",
       "      <td>France</td>\n",
       "      <td>EMEA</td>\n",
       "      <td>Henriot</td>\n",
       "      <td>Paul</td>\n",
       "      <td>Small</td>\n",
       "    </tr>\n",
       "    <tr>\n",
       "      <th>2</th>\n",
       "      <td>10134</td>\n",
       "      <td>41</td>\n",
       "      <td>94.74</td>\n",
       "      <td>2</td>\n",
       "      <td>3884.34</td>\n",
       "      <td>7/1/2003 0:00</td>\n",
       "      <td>Shipped</td>\n",
       "      <td>3</td>\n",
       "      <td>7</td>\n",
       "      <td>2003</td>\n",
       "      <td>...</td>\n",
       "      <td>27 rue du Colonel Pierre Avia</td>\n",
       "      <td>NaN</td>\n",
       "      <td>Paris</td>\n",
       "      <td>NaN</td>\n",
       "      <td>75508</td>\n",
       "      <td>France</td>\n",
       "      <td>EMEA</td>\n",
       "      <td>Da Cunha</td>\n",
       "      <td>Daniel</td>\n",
       "      <td>Medium</td>\n",
       "    </tr>\n",
       "    <tr>\n",
       "      <th>3</th>\n",
       "      <td>10145</td>\n",
       "      <td>45</td>\n",
       "      <td>83.26</td>\n",
       "      <td>6</td>\n",
       "      <td>3746.70</td>\n",
       "      <td>8/25/2003 0:00</td>\n",
       "      <td>Shipped</td>\n",
       "      <td>3</td>\n",
       "      <td>8</td>\n",
       "      <td>2003</td>\n",
       "      <td>...</td>\n",
       "      <td>78934 Hillside Dr.</td>\n",
       "      <td>NaN</td>\n",
       "      <td>Pasadena</td>\n",
       "      <td>CA</td>\n",
       "      <td>90003</td>\n",
       "      <td>USA</td>\n",
       "      <td>NaN</td>\n",
       "      <td>Young</td>\n",
       "      <td>Julie</td>\n",
       "      <td>Medium</td>\n",
       "    </tr>\n",
       "    <tr>\n",
       "      <th>4</th>\n",
       "      <td>10159</td>\n",
       "      <td>49</td>\n",
       "      <td>100.00</td>\n",
       "      <td>14</td>\n",
       "      <td>5205.27</td>\n",
       "      <td>10/10/2003 0:00</td>\n",
       "      <td>Shipped</td>\n",
       "      <td>4</td>\n",
       "      <td>10</td>\n",
       "      <td>2003</td>\n",
       "      <td>...</td>\n",
       "      <td>7734 Strong St.</td>\n",
       "      <td>NaN</td>\n",
       "      <td>San Francisco</td>\n",
       "      <td>CA</td>\n",
       "      <td>NaN</td>\n",
       "      <td>USA</td>\n",
       "      <td>NaN</td>\n",
       "      <td>Brown</td>\n",
       "      <td>Julie</td>\n",
       "      <td>Medium</td>\n",
       "    </tr>\n",
       "  </tbody>\n",
       "</table>\n",
       "<p>5 rows × 25 columns</p>\n",
       "</div>"
      ],
      "text/plain": [
       "   ORDERNUMBER  QUANTITYORDERED  PRICEEACH  ORDERLINENUMBER    SALES  \\\n",
       "0        10107               30      95.70                2  2871.00   \n",
       "1        10121               34      81.35                5  2765.90   \n",
       "2        10134               41      94.74                2  3884.34   \n",
       "3        10145               45      83.26                6  3746.70   \n",
       "4        10159               49     100.00               14  5205.27   \n",
       "\n",
       "         ORDERDATE   STATUS  QTR_ID  MONTH_ID  YEAR_ID  ...  \\\n",
       "0   2/24/2003 0:00  Shipped       1         2     2003  ...   \n",
       "1    5/7/2003 0:00  Shipped       2         5     2003  ...   \n",
       "2    7/1/2003 0:00  Shipped       3         7     2003  ...   \n",
       "3   8/25/2003 0:00  Shipped       3         8     2003  ...   \n",
       "4  10/10/2003 0:00  Shipped       4        10     2003  ...   \n",
       "\n",
       "                    ADDRESSLINE1  ADDRESSLINE2           CITY STATE  \\\n",
       "0        897 Long Airport Avenue           NaN            NYC    NY   \n",
       "1             59 rue de l'Abbaye           NaN          Reims   NaN   \n",
       "2  27 rue du Colonel Pierre Avia           NaN          Paris   NaN   \n",
       "3             78934 Hillside Dr.           NaN       Pasadena    CA   \n",
       "4                7734 Strong St.           NaN  San Francisco    CA   \n",
       "\n",
       "  POSTALCODE COUNTRY TERRITORY CONTACTLASTNAME CONTACTFIRSTNAME DEALSIZE  \n",
       "0      10022     USA       NaN              Yu             Kwai    Small  \n",
       "1      51100  France      EMEA         Henriot             Paul    Small  \n",
       "2      75508  France      EMEA        Da Cunha           Daniel   Medium  \n",
       "3      90003     USA       NaN           Young            Julie   Medium  \n",
       "4        NaN     USA       NaN           Brown            Julie   Medium  \n",
       "\n",
       "[5 rows x 25 columns]"
      ]
     },
     "execution_count": 4,
     "metadata": {},
     "output_type": "execute_result"
    }
   ],
   "source": [
    "data = pd.read_csv(r\"C:\\Users\\roble\\OneDrive\\Escritorio\\PROYECTOS PERSONALES\\sales_data_sample.csv\", encoding='latin1')\n",
    "data.head()"
   ]
  },
  {
   "cell_type": "markdown",
   "id": "efb4d4d5",
   "metadata": {},
   "source": [
    "1) Información = Data"
   ]
  },
  {
   "cell_type": "code",
   "execution_count": 5,
   "id": "fd1f18c4",
   "metadata": {},
   "outputs": [
    {
     "name": "stdout",
     "output_type": "stream",
     "text": [
      "<class 'pandas.core.frame.DataFrame'>\n",
      "RangeIndex: 2823 entries, 0 to 2822\n",
      "Data columns (total 25 columns):\n",
      " #   Column            Non-Null Count  Dtype  \n",
      "---  ------            --------------  -----  \n",
      " 0   ORDERNUMBER       2823 non-null   int64  \n",
      " 1   QUANTITYORDERED   2823 non-null   int64  \n",
      " 2   PRICEEACH         2823 non-null   float64\n",
      " 3   ORDERLINENUMBER   2823 non-null   int64  \n",
      " 4   SALES             2823 non-null   float64\n",
      " 5   ORDERDATE         2823 non-null   object \n",
      " 6   STATUS            2823 non-null   object \n",
      " 7   QTR_ID            2823 non-null   int64  \n",
      " 8   MONTH_ID          2823 non-null   int64  \n",
      " 9   YEAR_ID           2823 non-null   int64  \n",
      " 10  PRODUCTLINE       2823 non-null   object \n",
      " 11  MSRP              2823 non-null   int64  \n",
      " 12  PRODUCTCODE       2823 non-null   object \n",
      " 13  CUSTOMERNAME      2823 non-null   object \n",
      " 14  PHONE             2823 non-null   object \n",
      " 15  ADDRESSLINE1      2823 non-null   object \n",
      " 16  ADDRESSLINE2      302 non-null    object \n",
      " 17  CITY              2823 non-null   object \n",
      " 18  STATE             1337 non-null   object \n",
      " 19  POSTALCODE        2747 non-null   object \n",
      " 20  COUNTRY           2823 non-null   object \n",
      " 21  TERRITORY         1749 non-null   object \n",
      " 22  CONTACTLASTNAME   2823 non-null   object \n",
      " 23  CONTACTFIRSTNAME  2823 non-null   object \n",
      " 24  DEALSIZE          2823 non-null   object \n",
      "dtypes: float64(2), int64(7), object(16)\n",
      "memory usage: 551.5+ KB\n"
     ]
    }
   ],
   "source": [
    "data.info()"
   ]
  },
  {
   "cell_type": "markdown",
   "id": "3c338e4a",
   "metadata": {},
   "source": [
    "2) Limpiar datos"
   ]
  },
  {
   "cell_type": "code",
   "execution_count": 6,
   "id": "60b5d533",
   "metadata": {},
   "outputs": [
    {
     "data": {
      "text/html": [
       "<div>\n",
       "<style scoped>\n",
       "    .dataframe tbody tr th:only-of-type {\n",
       "        vertical-align: middle;\n",
       "    }\n",
       "\n",
       "    .dataframe tbody tr th {\n",
       "        vertical-align: top;\n",
       "    }\n",
       "\n",
       "    .dataframe thead th {\n",
       "        text-align: right;\n",
       "    }\n",
       "</style>\n",
       "<table border=\"1\" class=\"dataframe\">\n",
       "  <thead>\n",
       "    <tr style=\"text-align: right;\">\n",
       "      <th></th>\n",
       "      <th>ORDERNUMBER</th>\n",
       "      <th>QUANTITYORDERED</th>\n",
       "      <th>PRICEEACH</th>\n",
       "      <th>SALES</th>\n",
       "      <th>ORDERDATE</th>\n",
       "      <th>QTR_ID</th>\n",
       "      <th>MONTH_ID</th>\n",
       "      <th>YEAR_ID</th>\n",
       "      <th>PRODUCTLINE</th>\n",
       "      <th>MSRP</th>\n",
       "      <th>CUSTOMERNAME</th>\n",
       "      <th>ADDRESSLINE1</th>\n",
       "      <th>ADDRESSLINE2</th>\n",
       "      <th>CITY</th>\n",
       "      <th>COUNTRY</th>\n",
       "      <th>DEALSIZE</th>\n",
       "    </tr>\n",
       "  </thead>\n",
       "  <tbody>\n",
       "    <tr>\n",
       "      <th>0</th>\n",
       "      <td>10107</td>\n",
       "      <td>30</td>\n",
       "      <td>95.70</td>\n",
       "      <td>2871.00</td>\n",
       "      <td>2/24/2003 0:00</td>\n",
       "      <td>1</td>\n",
       "      <td>2</td>\n",
       "      <td>2003</td>\n",
       "      <td>Motorcycles</td>\n",
       "      <td>95</td>\n",
       "      <td>Land of Toys Inc.</td>\n",
       "      <td>897 Long Airport Avenue</td>\n",
       "      <td>NaN</td>\n",
       "      <td>NYC</td>\n",
       "      <td>USA</td>\n",
       "      <td>Small</td>\n",
       "    </tr>\n",
       "    <tr>\n",
       "      <th>1</th>\n",
       "      <td>10121</td>\n",
       "      <td>34</td>\n",
       "      <td>81.35</td>\n",
       "      <td>2765.90</td>\n",
       "      <td>5/7/2003 0:00</td>\n",
       "      <td>2</td>\n",
       "      <td>5</td>\n",
       "      <td>2003</td>\n",
       "      <td>Motorcycles</td>\n",
       "      <td>95</td>\n",
       "      <td>Reims Collectables</td>\n",
       "      <td>59 rue de l'Abbaye</td>\n",
       "      <td>NaN</td>\n",
       "      <td>Reims</td>\n",
       "      <td>France</td>\n",
       "      <td>Small</td>\n",
       "    </tr>\n",
       "    <tr>\n",
       "      <th>2</th>\n",
       "      <td>10134</td>\n",
       "      <td>41</td>\n",
       "      <td>94.74</td>\n",
       "      <td>3884.34</td>\n",
       "      <td>7/1/2003 0:00</td>\n",
       "      <td>3</td>\n",
       "      <td>7</td>\n",
       "      <td>2003</td>\n",
       "      <td>Motorcycles</td>\n",
       "      <td>95</td>\n",
       "      <td>Lyon Souveniers</td>\n",
       "      <td>27 rue du Colonel Pierre Avia</td>\n",
       "      <td>NaN</td>\n",
       "      <td>Paris</td>\n",
       "      <td>France</td>\n",
       "      <td>Medium</td>\n",
       "    </tr>\n",
       "    <tr>\n",
       "      <th>3</th>\n",
       "      <td>10145</td>\n",
       "      <td>45</td>\n",
       "      <td>83.26</td>\n",
       "      <td>3746.70</td>\n",
       "      <td>8/25/2003 0:00</td>\n",
       "      <td>3</td>\n",
       "      <td>8</td>\n",
       "      <td>2003</td>\n",
       "      <td>Motorcycles</td>\n",
       "      <td>95</td>\n",
       "      <td>Toys4GrownUps.com</td>\n",
       "      <td>78934 Hillside Dr.</td>\n",
       "      <td>NaN</td>\n",
       "      <td>Pasadena</td>\n",
       "      <td>USA</td>\n",
       "      <td>Medium</td>\n",
       "    </tr>\n",
       "    <tr>\n",
       "      <th>4</th>\n",
       "      <td>10159</td>\n",
       "      <td>49</td>\n",
       "      <td>100.00</td>\n",
       "      <td>5205.27</td>\n",
       "      <td>10/10/2003 0:00</td>\n",
       "      <td>4</td>\n",
       "      <td>10</td>\n",
       "      <td>2003</td>\n",
       "      <td>Motorcycles</td>\n",
       "      <td>95</td>\n",
       "      <td>Corporate Gift Ideas Co.</td>\n",
       "      <td>7734 Strong St.</td>\n",
       "      <td>NaN</td>\n",
       "      <td>San Francisco</td>\n",
       "      <td>USA</td>\n",
       "      <td>Medium</td>\n",
       "    </tr>\n",
       "    <tr>\n",
       "      <th>5</th>\n",
       "      <td>10168</td>\n",
       "      <td>36</td>\n",
       "      <td>96.66</td>\n",
       "      <td>3479.76</td>\n",
       "      <td>10/28/2003 0:00</td>\n",
       "      <td>4</td>\n",
       "      <td>10</td>\n",
       "      <td>2003</td>\n",
       "      <td>Motorcycles</td>\n",
       "      <td>95</td>\n",
       "      <td>Technics Stores Inc.</td>\n",
       "      <td>9408 Furth Circle</td>\n",
       "      <td>NaN</td>\n",
       "      <td>Burlingame</td>\n",
       "      <td>USA</td>\n",
       "      <td>Medium</td>\n",
       "    </tr>\n",
       "    <tr>\n",
       "      <th>6</th>\n",
       "      <td>10180</td>\n",
       "      <td>29</td>\n",
       "      <td>86.13</td>\n",
       "      <td>2497.77</td>\n",
       "      <td>11/11/2003 0:00</td>\n",
       "      <td>4</td>\n",
       "      <td>11</td>\n",
       "      <td>2003</td>\n",
       "      <td>Motorcycles</td>\n",
       "      <td>95</td>\n",
       "      <td>Daedalus Designs Imports</td>\n",
       "      <td>184, chausse de Tournai</td>\n",
       "      <td>NaN</td>\n",
       "      <td>Lille</td>\n",
       "      <td>France</td>\n",
       "      <td>Small</td>\n",
       "    </tr>\n",
       "    <tr>\n",
       "      <th>7</th>\n",
       "      <td>10188</td>\n",
       "      <td>48</td>\n",
       "      <td>100.00</td>\n",
       "      <td>5512.32</td>\n",
       "      <td>11/18/2003 0:00</td>\n",
       "      <td>4</td>\n",
       "      <td>11</td>\n",
       "      <td>2003</td>\n",
       "      <td>Motorcycles</td>\n",
       "      <td>95</td>\n",
       "      <td>Herkku Gifts</td>\n",
       "      <td>Drammen 121, PR 744 Sentrum</td>\n",
       "      <td>NaN</td>\n",
       "      <td>Bergen</td>\n",
       "      <td>Norway</td>\n",
       "      <td>Medium</td>\n",
       "    </tr>\n",
       "    <tr>\n",
       "      <th>8</th>\n",
       "      <td>10201</td>\n",
       "      <td>22</td>\n",
       "      <td>98.57</td>\n",
       "      <td>2168.54</td>\n",
       "      <td>12/1/2003 0:00</td>\n",
       "      <td>4</td>\n",
       "      <td>12</td>\n",
       "      <td>2003</td>\n",
       "      <td>Motorcycles</td>\n",
       "      <td>95</td>\n",
       "      <td>Mini Wheels Co.</td>\n",
       "      <td>5557 North Pendale Street</td>\n",
       "      <td>NaN</td>\n",
       "      <td>San Francisco</td>\n",
       "      <td>USA</td>\n",
       "      <td>Small</td>\n",
       "    </tr>\n",
       "    <tr>\n",
       "      <th>9</th>\n",
       "      <td>10211</td>\n",
       "      <td>41</td>\n",
       "      <td>100.00</td>\n",
       "      <td>4708.44</td>\n",
       "      <td>1/15/2004 0:00</td>\n",
       "      <td>1</td>\n",
       "      <td>1</td>\n",
       "      <td>2004</td>\n",
       "      <td>Motorcycles</td>\n",
       "      <td>95</td>\n",
       "      <td>Auto Canal Petit</td>\n",
       "      <td>25, rue Lauriston</td>\n",
       "      <td>NaN</td>\n",
       "      <td>Paris</td>\n",
       "      <td>France</td>\n",
       "      <td>Medium</td>\n",
       "    </tr>\n",
       "  </tbody>\n",
       "</table>\n",
       "</div>"
      ],
      "text/plain": [
       "   ORDERNUMBER  QUANTITYORDERED  PRICEEACH    SALES        ORDERDATE  QTR_ID  \\\n",
       "0        10107               30      95.70  2871.00   2/24/2003 0:00       1   \n",
       "1        10121               34      81.35  2765.90    5/7/2003 0:00       2   \n",
       "2        10134               41      94.74  3884.34    7/1/2003 0:00       3   \n",
       "3        10145               45      83.26  3746.70   8/25/2003 0:00       3   \n",
       "4        10159               49     100.00  5205.27  10/10/2003 0:00       4   \n",
       "5        10168               36      96.66  3479.76  10/28/2003 0:00       4   \n",
       "6        10180               29      86.13  2497.77  11/11/2003 0:00       4   \n",
       "7        10188               48     100.00  5512.32  11/18/2003 0:00       4   \n",
       "8        10201               22      98.57  2168.54   12/1/2003 0:00       4   \n",
       "9        10211               41     100.00  4708.44   1/15/2004 0:00       1   \n",
       "\n",
       "   MONTH_ID  YEAR_ID  PRODUCTLINE  MSRP              CUSTOMERNAME  \\\n",
       "0         2     2003  Motorcycles    95         Land of Toys Inc.   \n",
       "1         5     2003  Motorcycles    95        Reims Collectables   \n",
       "2         7     2003  Motorcycles    95           Lyon Souveniers   \n",
       "3         8     2003  Motorcycles    95         Toys4GrownUps.com   \n",
       "4        10     2003  Motorcycles    95  Corporate Gift Ideas Co.   \n",
       "5        10     2003  Motorcycles    95      Technics Stores Inc.   \n",
       "6        11     2003  Motorcycles    95  Daedalus Designs Imports   \n",
       "7        11     2003  Motorcycles    95              Herkku Gifts   \n",
       "8        12     2003  Motorcycles    95           Mini Wheels Co.   \n",
       "9         1     2004  Motorcycles    95          Auto Canal Petit   \n",
       "\n",
       "                    ADDRESSLINE1 ADDRESSLINE2           CITY COUNTRY DEALSIZE  \n",
       "0        897 Long Airport Avenue          NaN            NYC     USA    Small  \n",
       "1             59 rue de l'Abbaye          NaN          Reims  France    Small  \n",
       "2  27 rue du Colonel Pierre Avia          NaN          Paris  France   Medium  \n",
       "3             78934 Hillside Dr.          NaN       Pasadena     USA   Medium  \n",
       "4                7734 Strong St.          NaN  San Francisco     USA   Medium  \n",
       "5              9408 Furth Circle          NaN     Burlingame     USA   Medium  \n",
       "6        184, chausse de Tournai          NaN          Lille  France    Small  \n",
       "7    Drammen 121, PR 744 Sentrum          NaN         Bergen  Norway   Medium  \n",
       "8      5557 North Pendale Street          NaN  San Francisco     USA    Small  \n",
       "9              25, rue Lauriston          NaN          Paris  France   Medium  "
      ]
     },
     "execution_count": 6,
     "metadata": {},
     "output_type": "execute_result"
    }
   ],
   "source": [
    "data.drop(['ORDERLINENUMBER','STATUS','PRODUCTCODE','PHONE','STATE',\n",
    "           'POSTALCODE', 'TERRITORY', 'CONTACTFIRSTNAME', 'CONTACTLASTNAME'], axis=1, inplace=True)\n",
    "data.head(10)"
   ]
  },
  {
   "cell_type": "markdown",
   "id": "58915741",
   "metadata": {},
   "source": [
    "3) Concatenar 2 columnas de direcciones con 1 columna con valores nulos"
   ]
  },
  {
   "cell_type": "code",
   "execution_count": 7,
   "id": "988b14a1",
   "metadata": {},
   "outputs": [
    {
     "data": {
      "text/html": [
       "<div>\n",
       "<style scoped>\n",
       "    .dataframe tbody tr th:only-of-type {\n",
       "        vertical-align: middle;\n",
       "    }\n",
       "\n",
       "    .dataframe tbody tr th {\n",
       "        vertical-align: top;\n",
       "    }\n",
       "\n",
       "    .dataframe thead th {\n",
       "        text-align: right;\n",
       "    }\n",
       "</style>\n",
       "<table border=\"1\" class=\"dataframe\">\n",
       "  <thead>\n",
       "    <tr style=\"text-align: right;\">\n",
       "      <th></th>\n",
       "      <th>ORDERNUMBER</th>\n",
       "      <th>QUANTITYORDERED</th>\n",
       "      <th>PRICEEACH</th>\n",
       "      <th>SALES</th>\n",
       "      <th>ORDERDATE</th>\n",
       "      <th>QTR_ID</th>\n",
       "      <th>MONTH_ID</th>\n",
       "      <th>YEAR_ID</th>\n",
       "      <th>PRODUCTLINE</th>\n",
       "      <th>MSRP</th>\n",
       "      <th>CUSTOMERNAME</th>\n",
       "      <th>CITY</th>\n",
       "      <th>COUNTRY</th>\n",
       "      <th>DEALSIZE</th>\n",
       "      <th>ADDRESS</th>\n",
       "    </tr>\n",
       "  </thead>\n",
       "  <tbody>\n",
       "    <tr>\n",
       "      <th>0</th>\n",
       "      <td>10107</td>\n",
       "      <td>30</td>\n",
       "      <td>95.70</td>\n",
       "      <td>2871.00</td>\n",
       "      <td>2/24/2003 0:00</td>\n",
       "      <td>1</td>\n",
       "      <td>2</td>\n",
       "      <td>2003</td>\n",
       "      <td>Motorcycles</td>\n",
       "      <td>95</td>\n",
       "      <td>Land of Toys Inc.</td>\n",
       "      <td>NYC</td>\n",
       "      <td>USA</td>\n",
       "      <td>Small</td>\n",
       "      <td>897 Long Airport Avenue</td>\n",
       "    </tr>\n",
       "    <tr>\n",
       "      <th>1</th>\n",
       "      <td>10121</td>\n",
       "      <td>34</td>\n",
       "      <td>81.35</td>\n",
       "      <td>2765.90</td>\n",
       "      <td>5/7/2003 0:00</td>\n",
       "      <td>2</td>\n",
       "      <td>5</td>\n",
       "      <td>2003</td>\n",
       "      <td>Motorcycles</td>\n",
       "      <td>95</td>\n",
       "      <td>Reims Collectables</td>\n",
       "      <td>Reims</td>\n",
       "      <td>France</td>\n",
       "      <td>Small</td>\n",
       "      <td>59 rue de l'Abbaye</td>\n",
       "    </tr>\n",
       "    <tr>\n",
       "      <th>2</th>\n",
       "      <td>10134</td>\n",
       "      <td>41</td>\n",
       "      <td>94.74</td>\n",
       "      <td>3884.34</td>\n",
       "      <td>7/1/2003 0:00</td>\n",
       "      <td>3</td>\n",
       "      <td>7</td>\n",
       "      <td>2003</td>\n",
       "      <td>Motorcycles</td>\n",
       "      <td>95</td>\n",
       "      <td>Lyon Souveniers</td>\n",
       "      <td>Paris</td>\n",
       "      <td>France</td>\n",
       "      <td>Medium</td>\n",
       "      <td>27 rue du Colonel Pierre Avia</td>\n",
       "    </tr>\n",
       "    <tr>\n",
       "      <th>3</th>\n",
       "      <td>10145</td>\n",
       "      <td>45</td>\n",
       "      <td>83.26</td>\n",
       "      <td>3746.70</td>\n",
       "      <td>8/25/2003 0:00</td>\n",
       "      <td>3</td>\n",
       "      <td>8</td>\n",
       "      <td>2003</td>\n",
       "      <td>Motorcycles</td>\n",
       "      <td>95</td>\n",
       "      <td>Toys4GrownUps.com</td>\n",
       "      <td>Pasadena</td>\n",
       "      <td>USA</td>\n",
       "      <td>Medium</td>\n",
       "      <td>78934 Hillside Dr.</td>\n",
       "    </tr>\n",
       "  </tbody>\n",
       "</table>\n",
       "</div>"
      ],
      "text/plain": [
       "   ORDERNUMBER  QUANTITYORDERED  PRICEEACH    SALES       ORDERDATE  QTR_ID  \\\n",
       "0        10107               30      95.70  2871.00  2/24/2003 0:00       1   \n",
       "1        10121               34      81.35  2765.90   5/7/2003 0:00       2   \n",
       "2        10134               41      94.74  3884.34   7/1/2003 0:00       3   \n",
       "3        10145               45      83.26  3746.70  8/25/2003 0:00       3   \n",
       "\n",
       "   MONTH_ID  YEAR_ID  PRODUCTLINE  MSRP        CUSTOMERNAME      CITY COUNTRY  \\\n",
       "0         2     2003  Motorcycles    95   Land of Toys Inc.       NYC     USA   \n",
       "1         5     2003  Motorcycles    95  Reims Collectables     Reims  France   \n",
       "2         7     2003  Motorcycles    95     Lyon Souveniers     Paris  France   \n",
       "3         8     2003  Motorcycles    95   Toys4GrownUps.com  Pasadena     USA   \n",
       "\n",
       "  DEALSIZE                          ADDRESS  \n",
       "0    Small        897 Long Airport Avenue    \n",
       "1    Small             59 rue de l'Abbaye    \n",
       "2   Medium  27 rue du Colonel Pierre Avia    \n",
       "3   Medium             78934 Hillside Dr.    "
      ]
     },
     "execution_count": 7,
     "metadata": {},
     "output_type": "execute_result"
    }
   ],
   "source": [
    "data[\"ADDRESS\"] = data[\"ADDRESSLINE1\"].fillna(' ') + \"  \" + data[\"ADDRESSLINE2\"].fillna('')   \n",
    "data.drop(['ADDRESSLINE1','ADDRESSLINE2'], axis=1, inplace=True)\n",
    "data.head(4)"
   ]
  },
  {
   "cell_type": "markdown",
   "id": "d1b1cd84",
   "metadata": {},
   "source": [
    "4) Conversión de ORDERDATE al formulario de fecha y hora de pandas"
   ]
  },
  {
   "cell_type": "code",
   "execution_count": 8,
   "id": "85e7b29d",
   "metadata": {},
   "outputs": [
    {
     "data": {
      "text/html": [
       "<div>\n",
       "<style scoped>\n",
       "    .dataframe tbody tr th:only-of-type {\n",
       "        vertical-align: middle;\n",
       "    }\n",
       "\n",
       "    .dataframe tbody tr th {\n",
       "        vertical-align: top;\n",
       "    }\n",
       "\n",
       "    .dataframe thead th {\n",
       "        text-align: right;\n",
       "    }\n",
       "</style>\n",
       "<table border=\"1\" class=\"dataframe\">\n",
       "  <thead>\n",
       "    <tr style=\"text-align: right;\">\n",
       "      <th></th>\n",
       "      <th>ORDERNUMBER</th>\n",
       "      <th>QUANTITYORDERED</th>\n",
       "      <th>PRICEEACH</th>\n",
       "      <th>SALES</th>\n",
       "      <th>ORDERDATE</th>\n",
       "      <th>QTR_ID</th>\n",
       "      <th>MONTH_ID</th>\n",
       "      <th>YEAR_ID</th>\n",
       "      <th>PRODUCTLINE</th>\n",
       "      <th>MSRP</th>\n",
       "      <th>CUSTOMERNAME</th>\n",
       "      <th>CITY</th>\n",
       "      <th>COUNTRY</th>\n",
       "      <th>DEALSIZE</th>\n",
       "      <th>ADDRESS</th>\n",
       "    </tr>\n",
       "  </thead>\n",
       "  <tbody>\n",
       "    <tr>\n",
       "      <th>0</th>\n",
       "      <td>10107</td>\n",
       "      <td>30</td>\n",
       "      <td>95.70</td>\n",
       "      <td>2871.00</td>\n",
       "      <td>1046044800000000000</td>\n",
       "      <td>1</td>\n",
       "      <td>2</td>\n",
       "      <td>2003</td>\n",
       "      <td>Motorcycles</td>\n",
       "      <td>95</td>\n",
       "      <td>Land of Toys Inc.</td>\n",
       "      <td>NYC</td>\n",
       "      <td>USA</td>\n",
       "      <td>Small</td>\n",
       "      <td>897 Long Airport Avenue</td>\n",
       "    </tr>\n",
       "    <tr>\n",
       "      <th>1</th>\n",
       "      <td>10121</td>\n",
       "      <td>34</td>\n",
       "      <td>81.35</td>\n",
       "      <td>2765.90</td>\n",
       "      <td>1052265600000000000</td>\n",
       "      <td>2</td>\n",
       "      <td>5</td>\n",
       "      <td>2003</td>\n",
       "      <td>Motorcycles</td>\n",
       "      <td>95</td>\n",
       "      <td>Reims Collectables</td>\n",
       "      <td>Reims</td>\n",
       "      <td>France</td>\n",
       "      <td>Small</td>\n",
       "      <td>59 rue de l'Abbaye</td>\n",
       "    </tr>\n",
       "    <tr>\n",
       "      <th>2</th>\n",
       "      <td>10134</td>\n",
       "      <td>41</td>\n",
       "      <td>94.74</td>\n",
       "      <td>3884.34</td>\n",
       "      <td>1057017600000000000</td>\n",
       "      <td>3</td>\n",
       "      <td>7</td>\n",
       "      <td>2003</td>\n",
       "      <td>Motorcycles</td>\n",
       "      <td>95</td>\n",
       "      <td>Lyon Souveniers</td>\n",
       "      <td>Paris</td>\n",
       "      <td>France</td>\n",
       "      <td>Medium</td>\n",
       "      <td>27 rue du Colonel Pierre Avia</td>\n",
       "    </tr>\n",
       "    <tr>\n",
       "      <th>3</th>\n",
       "      <td>10145</td>\n",
       "      <td>45</td>\n",
       "      <td>83.26</td>\n",
       "      <td>3746.70</td>\n",
       "      <td>1061769600000000000</td>\n",
       "      <td>3</td>\n",
       "      <td>8</td>\n",
       "      <td>2003</td>\n",
       "      <td>Motorcycles</td>\n",
       "      <td>95</td>\n",
       "      <td>Toys4GrownUps.com</td>\n",
       "      <td>Pasadena</td>\n",
       "      <td>USA</td>\n",
       "      <td>Medium</td>\n",
       "      <td>78934 Hillside Dr.</td>\n",
       "    </tr>\n",
       "  </tbody>\n",
       "</table>\n",
       "</div>"
      ],
      "text/plain": [
       "   ORDERNUMBER  QUANTITYORDERED  PRICEEACH    SALES            ORDERDATE  \\\n",
       "0        10107               30      95.70  2871.00  1046044800000000000   \n",
       "1        10121               34      81.35  2765.90  1052265600000000000   \n",
       "2        10134               41      94.74  3884.34  1057017600000000000   \n",
       "3        10145               45      83.26  3746.70  1061769600000000000   \n",
       "\n",
       "   QTR_ID  MONTH_ID  YEAR_ID  PRODUCTLINE  MSRP        CUSTOMERNAME      CITY  \\\n",
       "0       1         2     2003  Motorcycles    95   Land of Toys Inc.       NYC   \n",
       "1       2         5     2003  Motorcycles    95  Reims Collectables     Reims   \n",
       "2       3         7     2003  Motorcycles    95     Lyon Souveniers     Paris   \n",
       "3       3         8     2003  Motorcycles    95   Toys4GrownUps.com  Pasadena   \n",
       "\n",
       "  COUNTRY DEALSIZE                          ADDRESS  \n",
       "0     USA    Small        897 Long Airport Avenue    \n",
       "1  France    Small             59 rue de l'Abbaye    \n",
       "2  France   Medium  27 rue du Colonel Pierre Avia    \n",
       "3     USA   Medium             78934 Hillside Dr.    "
      ]
     },
     "execution_count": 8,
     "metadata": {},
     "output_type": "execute_result"
    }
   ],
   "source": [
    "data['ORDERDATE'] = pd.to_datetime(data['ORDERDATE'])\n",
    "data['ORDERDATE'] = pd.to_datetime(data['ORDERDATE']).astype(np.int64)\n",
    "data.head(4)"
   ]
  },
  {
   "cell_type": "markdown",
   "id": "ea3fe5d3",
   "metadata": {},
   "source": [
    "5) Buscando valores faltantes y duplicados"
   ]
  },
  {
   "cell_type": "code",
   "execution_count": 9,
   "id": "2957e646",
   "metadata": {},
   "outputs": [
    {
     "data": {
      "text/html": [
       "<div>\n",
       "<style scoped>\n",
       "    .dataframe tbody tr th:only-of-type {\n",
       "        vertical-align: middle;\n",
       "    }\n",
       "\n",
       "    .dataframe tbody tr th {\n",
       "        vertical-align: top;\n",
       "    }\n",
       "\n",
       "    .dataframe thead th {\n",
       "        text-align: right;\n",
       "    }\n",
       "</style>\n",
       "<table border=\"1\" class=\"dataframe\">\n",
       "  <thead>\n",
       "    <tr style=\"text-align: right;\">\n",
       "      <th></th>\n",
       "      <th>ORDERNUMBER</th>\n",
       "      <th>QUANTITYORDERED</th>\n",
       "      <th>PRICEEACH</th>\n",
       "      <th>SALES</th>\n",
       "      <th>ORDERDATE</th>\n",
       "      <th>QTR_ID</th>\n",
       "      <th>MONTH_ID</th>\n",
       "      <th>YEAR_ID</th>\n",
       "      <th>PRODUCTLINE</th>\n",
       "      <th>MSRP</th>\n",
       "      <th>CUSTOMERNAME</th>\n",
       "      <th>CITY</th>\n",
       "      <th>COUNTRY</th>\n",
       "      <th>DEALSIZE</th>\n",
       "      <th>ADDRESS</th>\n",
       "    </tr>\n",
       "  </thead>\n",
       "  <tbody>\n",
       "  </tbody>\n",
       "</table>\n",
       "</div>"
      ],
      "text/plain": [
       "Empty DataFrame\n",
       "Columns: [ORDERNUMBER, QUANTITYORDERED, PRICEEACH, SALES, ORDERDATE, QTR_ID, MONTH_ID, YEAR_ID, PRODUCTLINE, MSRP, CUSTOMERNAME, CITY, COUNTRY, DEALSIZE, ADDRESS]\n",
       "Index: []"
      ]
     },
     "execution_count": 9,
     "metadata": {},
     "output_type": "execute_result"
    }
   ],
   "source": [
    "nan_df = data[data.isna().any(axis=1)]     # to find any null values\n",
    "nan_df.head()"
   ]
  },
  {
   "cell_type": "markdown",
   "id": "6837cb6a",
   "metadata": {},
   "source": [
    "#NO SE ENCONTRARON VALORES NULOS!!!"
   ]
  },
  {
   "cell_type": "code",
   "execution_count": 10,
   "id": "b5684f1b",
   "metadata": {},
   "outputs": [
    {
     "data": {
      "text/plain": [
       "0"
      ]
     },
     "execution_count": 10,
     "metadata": {},
     "output_type": "execute_result"
    }
   ],
   "source": [
    "data.duplicated( keep='first').sum()"
   ]
  },
  {
   "cell_type": "markdown",
   "id": "db2b40bb",
   "metadata": {},
   "source": [
    "#NO SE ENCONTRARON VALORES DUPLICADOS!!!"
   ]
  },
  {
   "cell_type": "code",
   "execution_count": 11,
   "id": "35470719",
   "metadata": {},
   "outputs": [
    {
     "data": {
      "text/html": [
       "<div>\n",
       "<style scoped>\n",
       "    .dataframe tbody tr th:only-of-type {\n",
       "        vertical-align: middle;\n",
       "    }\n",
       "\n",
       "    .dataframe tbody tr th {\n",
       "        vertical-align: top;\n",
       "    }\n",
       "\n",
       "    .dataframe thead th {\n",
       "        text-align: right;\n",
       "    }\n",
       "</style>\n",
       "<table border=\"1\" class=\"dataframe\">\n",
       "  <thead>\n",
       "    <tr style=\"text-align: right;\">\n",
       "      <th></th>\n",
       "      <th>ORDERNUMBER</th>\n",
       "      <th>QUANTITYORDERED</th>\n",
       "      <th>PRICEEACH</th>\n",
       "      <th>SALES</th>\n",
       "      <th>ORDERDATE</th>\n",
       "      <th>QTR_ID</th>\n",
       "      <th>MONTH_ID</th>\n",
       "      <th>YEAR_ID</th>\n",
       "      <th>MSRP</th>\n",
       "    </tr>\n",
       "  </thead>\n",
       "  <tbody>\n",
       "    <tr>\n",
       "      <th>count</th>\n",
       "      <td>2823.000000</td>\n",
       "      <td>2823.000000</td>\n",
       "      <td>2823.000000</td>\n",
       "      <td>2823.000000</td>\n",
       "      <td>2.823000e+03</td>\n",
       "      <td>2823.000000</td>\n",
       "      <td>2823.000000</td>\n",
       "      <td>2823.00000</td>\n",
       "      <td>2823.000000</td>\n",
       "    </tr>\n",
       "    <tr>\n",
       "      <th>mean</th>\n",
       "      <td>10258.725115</td>\n",
       "      <td>35.092809</td>\n",
       "      <td>83.658544</td>\n",
       "      <td>3553.889072</td>\n",
       "      <td>1.084235e+18</td>\n",
       "      <td>2.717676</td>\n",
       "      <td>7.092455</td>\n",
       "      <td>2003.81509</td>\n",
       "      <td>100.715551</td>\n",
       "    </tr>\n",
       "    <tr>\n",
       "      <th>std</th>\n",
       "      <td>92.085478</td>\n",
       "      <td>9.741443</td>\n",
       "      <td>20.174277</td>\n",
       "      <td>1841.865106</td>\n",
       "      <td>1.992714e+16</td>\n",
       "      <td>1.203878</td>\n",
       "      <td>3.656633</td>\n",
       "      <td>0.69967</td>\n",
       "      <td>40.187912</td>\n",
       "    </tr>\n",
       "    <tr>\n",
       "      <th>min</th>\n",
       "      <td>10100.000000</td>\n",
       "      <td>6.000000</td>\n",
       "      <td>26.880000</td>\n",
       "      <td>482.130000</td>\n",
       "      <td>1.041811e+18</td>\n",
       "      <td>1.000000</td>\n",
       "      <td>1.000000</td>\n",
       "      <td>2003.00000</td>\n",
       "      <td>33.000000</td>\n",
       "    </tr>\n",
       "    <tr>\n",
       "      <th>25%</th>\n",
       "      <td>10180.000000</td>\n",
       "      <td>27.000000</td>\n",
       "      <td>68.860000</td>\n",
       "      <td>2203.430000</td>\n",
       "      <td>1.068120e+18</td>\n",
       "      <td>2.000000</td>\n",
       "      <td>4.000000</td>\n",
       "      <td>2003.00000</td>\n",
       "      <td>68.000000</td>\n",
       "    </tr>\n",
       "    <tr>\n",
       "      <th>50%</th>\n",
       "      <td>10262.000000</td>\n",
       "      <td>35.000000</td>\n",
       "      <td>95.700000</td>\n",
       "      <td>3184.800000</td>\n",
       "      <td>1.087258e+18</td>\n",
       "      <td>3.000000</td>\n",
       "      <td>8.000000</td>\n",
       "      <td>2004.00000</td>\n",
       "      <td>99.000000</td>\n",
       "    </tr>\n",
       "    <tr>\n",
       "      <th>75%</th>\n",
       "      <td>10333.500000</td>\n",
       "      <td>43.000000</td>\n",
       "      <td>100.000000</td>\n",
       "      <td>4508.000000</td>\n",
       "      <td>1.100693e+18</td>\n",
       "      <td>4.000000</td>\n",
       "      <td>11.000000</td>\n",
       "      <td>2004.00000</td>\n",
       "      <td>124.000000</td>\n",
       "    </tr>\n",
       "    <tr>\n",
       "      <th>max</th>\n",
       "      <td>10425.000000</td>\n",
       "      <td>97.000000</td>\n",
       "      <td>100.000000</td>\n",
       "      <td>14082.800000</td>\n",
       "      <td>1.117498e+18</td>\n",
       "      <td>4.000000</td>\n",
       "      <td>12.000000</td>\n",
       "      <td>2005.00000</td>\n",
       "      <td>214.000000</td>\n",
       "    </tr>\n",
       "  </tbody>\n",
       "</table>\n",
       "</div>"
      ],
      "text/plain": [
       "        ORDERNUMBER  QUANTITYORDERED    PRICEEACH         SALES     ORDERDATE  \\\n",
       "count   2823.000000      2823.000000  2823.000000   2823.000000  2.823000e+03   \n",
       "mean   10258.725115        35.092809    83.658544   3553.889072  1.084235e+18   \n",
       "std       92.085478         9.741443    20.174277   1841.865106  1.992714e+16   \n",
       "min    10100.000000         6.000000    26.880000    482.130000  1.041811e+18   \n",
       "25%    10180.000000        27.000000    68.860000   2203.430000  1.068120e+18   \n",
       "50%    10262.000000        35.000000    95.700000   3184.800000  1.087258e+18   \n",
       "75%    10333.500000        43.000000   100.000000   4508.000000  1.100693e+18   \n",
       "max    10425.000000        97.000000   100.000000  14082.800000  1.117498e+18   \n",
       "\n",
       "            QTR_ID     MONTH_ID     YEAR_ID         MSRP  \n",
       "count  2823.000000  2823.000000  2823.00000  2823.000000  \n",
       "mean      2.717676     7.092455  2003.81509   100.715551  \n",
       "std       1.203878     3.656633     0.69967    40.187912  \n",
       "min       1.000000     1.000000  2003.00000    33.000000  \n",
       "25%       2.000000     4.000000  2003.00000    68.000000  \n",
       "50%       3.000000     8.000000  2004.00000    99.000000  \n",
       "75%       4.000000    11.000000  2004.00000   124.000000  \n",
       "max       4.000000    12.000000  2005.00000   214.000000  "
      ]
     },
     "execution_count": 11,
     "metadata": {},
     "output_type": "execute_result"
    }
   ],
   "source": [
    "data.describe() \n",
    "# para obtener información estadística básica de datos categóricos"
   ]
  },
  {
   "cell_type": "markdown",
   "id": "40eb64e2",
   "metadata": {},
   "source": [
    "Data Analysis"
   ]
  },
  {
   "cell_type": "markdown",
   "id": "0214edb7",
   "metadata": {},
   "source": [
    "¿Cuáles son las ventas mensuales de cada año financiero?"
   ]
  },
  {
   "cell_type": "code",
   "execution_count": 12,
   "id": "414cb9f2",
   "metadata": {},
   "outputs": [
    {
     "data": {
      "text/html": [
       "<div>\n",
       "<style scoped>\n",
       "    .dataframe tbody tr th:only-of-type {\n",
       "        vertical-align: middle;\n",
       "    }\n",
       "\n",
       "    .dataframe tbody tr th {\n",
       "        vertical-align: top;\n",
       "    }\n",
       "\n",
       "    .dataframe thead th {\n",
       "        text-align: right;\n",
       "    }\n",
       "</style>\n",
       "<table border=\"1\" class=\"dataframe\">\n",
       "  <thead>\n",
       "    <tr style=\"text-align: right;\">\n",
       "      <th></th>\n",
       "      <th>YEAR_ID</th>\n",
       "      <th>MONTH_ID</th>\n",
       "      <th>SALES</th>\n",
       "    </tr>\n",
       "  </thead>\n",
       "  <tbody>\n",
       "    <tr>\n",
       "      <th>0</th>\n",
       "      <td>2003</td>\n",
       "      <td>1</td>\n",
       "      <td>129753.60</td>\n",
       "    </tr>\n",
       "    <tr>\n",
       "      <th>1</th>\n",
       "      <td>2003</td>\n",
       "      <td>2</td>\n",
       "      <td>140836.19</td>\n",
       "    </tr>\n",
       "    <tr>\n",
       "      <th>2</th>\n",
       "      <td>2003</td>\n",
       "      <td>3</td>\n",
       "      <td>174504.90</td>\n",
       "    </tr>\n",
       "    <tr>\n",
       "      <th>3</th>\n",
       "      <td>2003</td>\n",
       "      <td>4</td>\n",
       "      <td>201609.55</td>\n",
       "    </tr>\n",
       "    <tr>\n",
       "      <th>4</th>\n",
       "      <td>2003</td>\n",
       "      <td>5</td>\n",
       "      <td>192673.11</td>\n",
       "    </tr>\n",
       "  </tbody>\n",
       "</table>\n",
       "</div>"
      ],
      "text/plain": [
       "   YEAR_ID  MONTH_ID      SALES\n",
       "0     2003         1  129753.60\n",
       "1     2003         2  140836.19\n",
       "2     2003         3  174504.90\n",
       "3     2003         4  201609.55\n",
       "4     2003         5  192673.11"
      ]
     },
     "execution_count": 12,
     "metadata": {},
     "output_type": "execute_result"
    }
   ],
   "source": [
    "monthly_sales = data.groupby(['YEAR_ID','MONTH_ID'])['SALES'].sum().reset_index()\n",
    "monthly_sales.head(5)"
   ]
  },
  {
   "cell_type": "code",
   "execution_count": 13,
   "id": "e1147f9c",
   "metadata": {},
   "outputs": [
    {
     "data": {
      "image/png": "[encoded data removed]",
      "text/plain": [
       "<Figure size 600x400 with 1 Axes>"
      ]
     },
     "metadata": {},
     "output_type": "display_data"
    }
   ],
   "source": [
    "# Establecer el ancho y alto de la figura.\n",
    "plt.figure(figsize=(6,4))\n",
    "\n",
    "plt.title(\"MONTHLY SALES\") # añadir título\n",
    "\n",
    "a= sns.lineplot(x='MONTH_ID',y='SALES',data=data,hue='YEAR_ID',palette='dark',errorbar=None,)\n",
    "sns.set_style('whitegrid') # agregar rejilla blanca detrás\n",
    "\n",
    "plt.xlabel('MONTHS')\n",
    "plt.ylabel('SALES')\n",
    "plt.legend(prop={'size': 10})  # ajustar el tamaño de la leyenda\n",
    "\n",
    "a.set_xticks([0,1,2,3,4,5,6,7,8,9,10,11,12])    # para ajustar específicamente el eje x\n",
    "plt.show()"
   ]
  },
  {
   "cell_type": "markdown",
   "id": "86d20e8c",
   "metadata": {},
   "source": [
    "Observaciones:\n",
    "1) En 2003, el mes de mayo (5) tuvo la menor cantidad de ventas, mientras que el mes de julio (7) tuvo las mejores ventas mensuales. 2) En 2004, el mes de abril (4) tuvo la menor cantidad de ventas, mientras que el mes de mayo ( 5º) tuvo las mejores ventas mensuales 3) En 2005, el mes de enero (1º) tuvo la menor cantidad de ventas mientras que el mes de abril (4º) tuvo las mejores ventas mensuales 4) Esto muestra que durante la temporada de verano las ventas son altas y justo antes de la las ventas de la temporada de verano son las que menos"
   ]
  },
  {
   "cell_type": "markdown",
   "id": "5b4bd6ac",
   "metadata": {},
   "source": [
    "¿Cuál es el mejor año según las ventas?"
   ]
  },
  {
   "cell_type": "code",
   "execution_count": 14,
   "id": "5377e61c",
   "metadata": {},
   "outputs": [
    {
     "data": {
      "text/html": [
       "<div>\n",
       "<style scoped>\n",
       "    .dataframe tbody tr th:only-of-type {\n",
       "        vertical-align: middle;\n",
       "    }\n",
       "\n",
       "    .dataframe tbody tr th {\n",
       "        vertical-align: top;\n",
       "    }\n",
       "\n",
       "    .dataframe thead th {\n",
       "        text-align: right;\n",
       "    }\n",
       "</style>\n",
       "<table border=\"1\" class=\"dataframe\">\n",
       "  <thead>\n",
       "    <tr style=\"text-align: right;\">\n",
       "      <th></th>\n",
       "      <th>YEAR_ID</th>\n",
       "      <th>SALES</th>\n",
       "    </tr>\n",
       "  </thead>\n",
       "  <tbody>\n",
       "    <tr>\n",
       "      <th>0</th>\n",
       "      <td>2003</td>\n",
       "      <td>3516979.54</td>\n",
       "    </tr>\n",
       "    <tr>\n",
       "      <th>1</th>\n",
       "      <td>2004</td>\n",
       "      <td>4724162.60</td>\n",
       "    </tr>\n",
       "    <tr>\n",
       "      <th>2</th>\n",
       "      <td>2005</td>\n",
       "      <td>1791486.71</td>\n",
       "    </tr>\n",
       "  </tbody>\n",
       "</table>\n",
       "</div>"
      ],
      "text/plain": [
       "   YEAR_ID       SALES\n",
       "0     2003  3516979.54\n",
       "1     2004  4724162.60\n",
       "2     2005  1791486.71"
      ]
     },
     "execution_count": 14,
     "metadata": {},
     "output_type": "execute_result"
    }
   ],
   "source": [
    "yearly_sales=data.groupby(['YEAR_ID'])['SALES'].sum().reset_index()\n",
    "yearly_sales"
   ]
  },
  {
   "cell_type": "code",
   "execution_count": 15,
   "id": "5b16f5ca",
   "metadata": {},
   "outputs": [
    {
     "data": {
      "image/png": "[encoded data removed]",
      "text/plain": [
       "<Figure size 600x400 with 1 Axes>"
      ]
     },
     "metadata": {},
     "output_type": "display_data"
    }
   ],
   "source": [
    "# Establecer el ancho y alto de la figura\n",
    "plt.figure(figsize=(6, 4))\n",
    "\n",
    "# Título del gráfico\n",
    "plt.title(\"VENTAS ANUALES\")\n",
    "\n",
    "# Etiquetas de los ejes\n",
    "plt.xlabel('AÑOS')\n",
    "plt.ylabel('VENTAS (EN MILLONES)')\n",
    "\n",
    "# Gráfico principal de barras\n",
    "z = sns.barplot(x='YEAR_ID', y='SALES', data=yearly_sales, hue='YEAR_ID', palette='mako', edgecolor='black', dodge=False, width=0.3)\n",
    "\n",
    "# Estilo de la rejilla oscura\n",
    "sns.set_style('darkgrid')\n",
    "\n",
    "# Agregar etiquetas a cada barra en el gráfico de barras\n",
    "etiquetas = ['3.51M', '4.72M', '1.79M']\n",
    "z.bar_label(z.containers[0], labels=etiquetas, padding=3)  # Etiquetar la primera barra con una distancia de 3 desde la barra\n",
    "z.bar_label(z.containers[1], labels=etiquetas, padding=3)\n",
    "z.bar_label(z.containers[2], labels=etiquetas, padding=3)\n",
    "\n",
    "# Ajustar el tamaño de la leyenda\n",
    "plt.legend(prop={'size': 12})\n",
    "\n",
    "# Mostrar el gráfico\n",
    "plt.show()"
   ]
  },
  {
   "cell_type": "markdown",
   "id": "ae58f3cf",
   "metadata": {},
   "source": [
    "Observaciones:\n",
    "1) En 2003, las ventas fueron de alrededor de 3,5 millones 2) En 2004, las ventas fueron de alrededor de 4,7 millones 3) En 2005, las ventas fueron de alrededor de 1,8 millones en sólo 5 meses 4) Representa un crecimiento progresivo en las ventas"
   ]
  },
  {
   "cell_type": "markdown",
   "id": "1073a4e4",
   "metadata": {},
   "source": [
    "¿Qué trimestre es el mejor para cada línea de productos?"
   ]
  },
  {
   "cell_type": "code",
   "execution_count": 16,
   "id": "e3f674bd",
   "metadata": {},
   "outputs": [
    {
     "data": {
      "text/html": [
       "<div>\n",
       "<style scoped>\n",
       "    .dataframe tbody tr th:only-of-type {\n",
       "        vertical-align: middle;\n",
       "    }\n",
       "\n",
       "    .dataframe tbody tr th {\n",
       "        vertical-align: top;\n",
       "    }\n",
       "\n",
       "    .dataframe thead th {\n",
       "        text-align: right;\n",
       "    }\n",
       "</style>\n",
       "<table border=\"1\" class=\"dataframe\">\n",
       "  <thead>\n",
       "    <tr style=\"text-align: right;\">\n",
       "      <th></th>\n",
       "      <th>PRODUCTLINE</th>\n",
       "      <th>QTR_ID</th>\n",
       "      <th>COUNTS</th>\n",
       "    </tr>\n",
       "  </thead>\n",
       "  <tbody>\n",
       "    <tr>\n",
       "      <th>0</th>\n",
       "      <td>Classic Cars</td>\n",
       "      <td>4</td>\n",
       "      <td>392</td>\n",
       "    </tr>\n",
       "    <tr>\n",
       "      <th>1</th>\n",
       "      <td>Classic Cars</td>\n",
       "      <td>1</td>\n",
       "      <td>217</td>\n",
       "    </tr>\n",
       "    <tr>\n",
       "      <th>2</th>\n",
       "      <td>Classic Cars</td>\n",
       "      <td>3</td>\n",
       "      <td>183</td>\n",
       "    </tr>\n",
       "    <tr>\n",
       "      <th>3</th>\n",
       "      <td>Classic Cars</td>\n",
       "      <td>2</td>\n",
       "      <td>175</td>\n",
       "    </tr>\n",
       "  </tbody>\n",
       "</table>\n",
       "</div>"
      ],
      "text/plain": [
       "    PRODUCTLINE  QTR_ID  COUNTS\n",
       "0  Classic Cars       4     392\n",
       "1  Classic Cars       1     217\n",
       "2  Classic Cars       3     183\n",
       "3  Classic Cars       2     175"
      ]
     },
     "execution_count": 16,
     "metadata": {},
     "output_type": "execute_result"
    }
   ],
   "source": [
    "quarter = data.groupby(['PRODUCTLINE']).QTR_ID.value_counts().reset_index(name='COUNTS')\n",
    "quarter.head(4)"
   ]
  },
  {
   "cell_type": "code",
   "execution_count": 17,
   "id": "814ed443",
   "metadata": {},
   "outputs": [
    {
     "data": {
      "image/png": "[encoded data removed]",
      "text/plain": [
       "<Figure size 900x600 with 1 Axes>"
      ]
     },
     "metadata": {},
     "output_type": "display_data"
    }
   ],
   "source": [
    "# Establecer el ancho y alto de la figura\n",
    "plt.figure(figsize=(9,6))\n",
    "# Argumentos para aplicar colores a los bordes de los puntos\n",
    "kwargs  =   {'edgecolor':\"black\", 'linewidth':1} \n",
    "# Gráfico de puntos (strip plot) para mostrar la cantidad de productos vendidos según el trimestre\n",
    "sns.stripplot(x='PRODUCTLINE',y='COUNTS',data=quarter,hue='QTR_ID',palette='bright',size=14,**kwargs)\n",
    "# Estilo de la rejilla blanca de fondo\n",
    "sns.set_style('whitegrid') \n",
    "# Título del gráfico\n",
    "plt.title(\"PRODUCTS SOLD ACCORDING TO QUARTER\") \n",
    "# Etiquetas de los ejes\n",
    "plt.xlabel('PRODUCTS')\n",
    "plt.ylabel('NUMBER OF ITEMS SOLD')\n",
    "plt.show()  # Mostrar el gráfico\n"
   ]
  },
  {
   "cell_type": "markdown",
   "id": "25ebc769",
   "metadata": {},
   "source": [
    "Observaciones:\n",
    "\n",
    "En el cuarto trimestre del año todos los Productos tuvieron ventas máximas.\n",
    "El motivo puede ser la llegada de las vacaciones de Navidad."
   ]
  },
  {
   "cell_type": "markdown",
   "id": "49b14130",
   "metadata": {},
   "source": [
    "¿Qué producto se vendió más? ¿Por qué crees que se vendió más?"
   ]
  },
  {
   "cell_type": "code",
   "execution_count": 18,
   "id": "366274d2",
   "metadata": {},
   "outputs": [
    {
     "data": {
      "text/html": [
       "<div>\n",
       "<style scoped>\n",
       "    .dataframe tbody tr th:only-of-type {\n",
       "        vertical-align: middle;\n",
       "    }\n",
       "\n",
       "    .dataframe tbody tr th {\n",
       "        vertical-align: top;\n",
       "    }\n",
       "\n",
       "    .dataframe thead th {\n",
       "        text-align: right;\n",
       "    }\n",
       "</style>\n",
       "<table border=\"1\" class=\"dataframe\">\n",
       "  <thead>\n",
       "    <tr style=\"text-align: right;\">\n",
       "      <th></th>\n",
       "      <th>PRODUCTLINE</th>\n",
       "      <th>SALES</th>\n",
       "      <th>MSRP</th>\n",
       "    </tr>\n",
       "  </thead>\n",
       "  <tbody>\n",
       "    <tr>\n",
       "      <th>0</th>\n",
       "      <td>Classic Cars</td>\n",
       "      <td>3919615.66</td>\n",
       "      <td>35</td>\n",
       "    </tr>\n",
       "    <tr>\n",
       "      <th>1</th>\n",
       "      <td>Motorcycles</td>\n",
       "      <td>1166388.34</td>\n",
       "      <td>40</td>\n",
       "    </tr>\n",
       "    <tr>\n",
       "      <th>2</th>\n",
       "      <td>Planes</td>\n",
       "      <td>975003.57</td>\n",
       "      <td>49</td>\n",
       "    </tr>\n",
       "    <tr>\n",
       "      <th>3</th>\n",
       "      <td>Ships</td>\n",
       "      <td>714437.13</td>\n",
       "      <td>54</td>\n",
       "    </tr>\n",
       "    <tr>\n",
       "      <th>4</th>\n",
       "      <td>Trains</td>\n",
       "      <td>226243.47</td>\n",
       "      <td>58</td>\n",
       "    </tr>\n",
       "    <tr>\n",
       "      <th>5</th>\n",
       "      <td>Trucks and Buses</td>\n",
       "      <td>1127789.84</td>\n",
       "      <td>54</td>\n",
       "    </tr>\n",
       "    <tr>\n",
       "      <th>6</th>\n",
       "      <td>Vintage Cars</td>\n",
       "      <td>1903150.84</td>\n",
       "      <td>33</td>\n",
       "    </tr>\n",
       "  </tbody>\n",
       "</table>\n",
       "</div>"
      ],
      "text/plain": [
       "        PRODUCTLINE       SALES  MSRP\n",
       "0      Classic Cars  3919615.66    35\n",
       "1       Motorcycles  1166388.34    40\n",
       "2            Planes   975003.57    49\n",
       "3             Ships   714437.13    54\n",
       "4            Trains   226243.47    58\n",
       "5  Trucks and Buses  1127789.84    54\n",
       "6      Vintage Cars  1903150.84    33"
      ]
     },
     "execution_count": 18,
     "metadata": {},
     "output_type": "execute_result"
    }
   ],
   "source": [
    "products = data.groupby(['PRODUCTLINE'])['SALES'].sum().reset_index() \n",
    "price = data.groupby(['PRODUCTLINE'])['MSRP'].min().reset_index()   # MSRP = Precio minorista sugerido por el fabricante\n",
    "result=pd.merge(products,price)\n",
    "result"
   ]
  },
  {
   "cell_type": "code",
   "execution_count": 19,
   "id": "6562c343",
   "metadata": {},
   "outputs": [
    {
     "data": {
      "image/png": "[encoded data removed]",
      "text/plain": [
       "<Figure size 1200x600 with 2 Axes>"
      ]
     },
     "metadata": {},
     "output_type": "display_data"
    }
   ],
   "source": [
    "# Establecer el ancho y alto de la figura\n",
    "plt.figure(figsize=(12, 6))\n",
    "\n",
    "# Crear el gráfico de barras con una paleta de colores diferente ('viridis')\n",
    "ax = sns.barplot(x='PRODUCTLINE', y='SALES', data=result, hue='PRODUCTLINE', palette='viridis',\n",
    "                 edgecolor='black', dodge=False, width=0.4)\n",
    "\n",
    "# Crear el gráfico de líneas en el eje secundario con un color diferente ('navy')\n",
    "ax2 = plt.twinx()\n",
    "sns.lineplot(x='PRODUCTLINE', y='MSRP', data=result, ax=ax2, errorbar=None, color='navy')\n",
    "\n",
    "# Etiquetas para las barras\n",
    "tb = ['3.91M', '1.16M', '975K', '714K', '226K', '1.12M', '1.90M']\n",
    "for container in ax.containers:\n",
    "    ax.bar_label(container, labels=tb, padding=3)\n",
    "\n",
    "# Estilo de fondo blanco\n",
    "sns.set_style('whitegrid')\n",
    "\n",
    "# Título del gráfico\n",
    "plt.title(\"PRODUCTOS VENDIDOS Vs. VENTAS / MSRP\")\n",
    "\n",
    "# Etiquetas de los ejes\n",
    "ax.set(xlabel='PRODUCTOS', ylabel='VENTAS')\n",
    "ax2.set(ylabel='MSRP')\n",
    "\n",
    "# Mostrar el gráfico\n",
    "plt.show()"
   ]
  },
  {
   "cell_type": "markdown",
   "id": "e58e8669",
   "metadata": {},
   "source": [
    "Observaciones:\n",
    "\n",
    "El gráfico anterior muestra que los productos con el precio más bajo fueron los más vendidos, mientras que los productos con un precio alto fueron los menos populares."
   ]
  },
  {
   "cell_type": "markdown",
   "id": "e2d99dca",
   "metadata": {},
   "source": [
    "¿Quién fue el mejor cliente?"
   ]
  },
  {
   "cell_type": "code",
   "execution_count": 20,
   "id": "5a0db7e3",
   "metadata": {},
   "outputs": [
    {
     "name": "stderr",
     "output_type": "stream",
     "text": [
      "C:\\Users\\roble\\AppData\\Local\\Temp\\ipykernel_8256\\4138683887.py:1: FutureWarning: The default value of numeric_only in DataFrameGroupBy.sum is deprecated. In a future version, numeric_only will default to False. Either specify numeric_only or select only columns which should be valid for the function.\n",
      "  top_customer = data.groupby(['CUSTOMERNAME']).sum().sort_values('SALES', ascending = False).head(5)\n"
     ]
    },
    {
     "data": {
      "text/html": [
       "<div>\n",
       "<style scoped>\n",
       "    .dataframe tbody tr th:only-of-type {\n",
       "        vertical-align: middle;\n",
       "    }\n",
       "\n",
       "    .dataframe tbody tr th {\n",
       "        vertical-align: top;\n",
       "    }\n",
       "\n",
       "    .dataframe thead th {\n",
       "        text-align: right;\n",
       "    }\n",
       "</style>\n",
       "<table border=\"1\" class=\"dataframe\">\n",
       "  <thead>\n",
       "    <tr style=\"text-align: right;\">\n",
       "      <th></th>\n",
       "      <th>CUSTOMERNAME</th>\n",
       "      <th>SALES</th>\n",
       "    </tr>\n",
       "  </thead>\n",
       "  <tbody>\n",
       "    <tr>\n",
       "      <th>0</th>\n",
       "      <td>Euro Shopping Channel</td>\n",
       "      <td>912294.11</td>\n",
       "    </tr>\n",
       "    <tr>\n",
       "      <th>1</th>\n",
       "      <td>Mini Gifts Distributors Ltd.</td>\n",
       "      <td>654858.06</td>\n",
       "    </tr>\n",
       "    <tr>\n",
       "      <th>2</th>\n",
       "      <td>Australian Collectors, Co.</td>\n",
       "      <td>200995.41</td>\n",
       "    </tr>\n",
       "    <tr>\n",
       "      <th>3</th>\n",
       "      <td>Muscle Machine Inc</td>\n",
       "      <td>197736.94</td>\n",
       "    </tr>\n",
       "    <tr>\n",
       "      <th>4</th>\n",
       "      <td>La Rochelle Gifts</td>\n",
       "      <td>180124.90</td>\n",
       "    </tr>\n",
       "  </tbody>\n",
       "</table>\n",
       "</div>"
      ],
      "text/plain": [
       "                   CUSTOMERNAME      SALES\n",
       "0         Euro Shopping Channel  912294.11\n",
       "1  Mini Gifts Distributors Ltd.  654858.06\n",
       "2    Australian Collectors, Co.  200995.41\n",
       "3            Muscle Machine Inc  197736.94\n",
       "4             La Rochelle Gifts  180124.90"
      ]
     },
     "execution_count": 20,
     "metadata": {},
     "output_type": "execute_result"
    }
   ],
   "source": [
    "top_customer = data.groupby(['CUSTOMERNAME']).sum().sort_values('SALES', ascending = False).head(5)\n",
    "top_customer = top_customer[['SALES']].round(3) \n",
    "top_customer.reset_index(inplace = True) \n",
    "top_customer.head()"
   ]
  },
  {
   "cell_type": "code",
   "execution_count": 21,
   "id": "af2333a0",
   "metadata": {},
   "outputs": [
    {
     "name": "stderr",
     "output_type": "stream",
     "text": [
      "C:\\Users\\roble\\AppData\\Local\\Temp\\ipykernel_8256\\2813861298.py:8: FutureWarning: \n",
      "\n",
      "The `ci` parameter is deprecated. Use `errorbar=None` for the same effect.\n",
      "\n",
      "  z = sns.barplot(x='CUSTOMERNAME', y='SALES', data=top_customer, hue='CUSTOMERNAME', palette='magma',\n",
      "C:\\Users\\roble\\AppData\\Local\\Temp\\ipykernel_8256\\2813861298.py:29: UserWarning: FixedFormatter should only be used together with FixedLocator\n",
      "  z.set_yticklabels([\"0\", \"200K\", \"400K\", \"600K\", \"800K\"])\n"
     ]
    },
    {
     "data": {
      "image/png": "[encoded data removed]",
      "text/plain": [
       "<Figure size 1000x600 with 1 Axes>"
      ]
     },
     "metadata": {},
     "output_type": "display_data"
    }
   ],
   "source": [
    "import matplotlib.pyplot as plt\n",
    "import seaborn as sns\n",
    "\n",
    "# Establecer el ancho y alto de la figura\n",
    "plt.figure(figsize=(10, 6))\n",
    "\n",
    "# Gráfico principal de barras con una paleta de colores diferente ('magma') y barras tipo step ('step')\n",
    "z = sns.barplot(x='CUSTOMERNAME', y='SALES', data=top_customer, hue='CUSTOMERNAME', palette='magma',\n",
    "               edgecolor='black', dodge=False, linewidth=2, ci=None)\n",
    "\n",
    "# Estilo de la rejilla blanca detrás del gráfico\n",
    "sns.set_style('whitegrid') \n",
    "\n",
    "# Título del gráfico\n",
    "plt.title(\"TOP 5 CLIENTES\")\n",
    "\n",
    "# Etiquetas de los ejes\n",
    "z.set(xlabel='CLIENTES', ylabel='VENTAS')\n",
    "\n",
    "# Etiquetas para las barras\n",
    "tb = ['912K', '654K', '200K', '197K', '180K']\n",
    "for container in z.containers:\n",
    "    z.bar_label(container, labels=tb, padding=3)\n",
    "\n",
    "# Rotar las etiquetas en el eje x para mejorar la legibilidad\n",
    "plt.xticks(rotation=45, ha=\"right\")\n",
    "\n",
    "# Ajustar las etiquetas en el eje y\n",
    "z.set_yticklabels([\"0\", \"200K\", \"400K\", \"600K\", \"800K\"])\n",
    "\n",
    "# Ajustar el tamaño y la ubicación de la leyenda\n",
    "plt.legend(prop={'size': 9}, loc='upper right')\n",
    "\n",
    "# Mostrar el gráfico\n",
    "plt.show()"
   ]
  },
  {
   "cell_type": "markdown",
   "id": "9f6650a1",
   "metadata": {},
   "source": [
    "Observaciones:\n",
    "\n",
    "Claramente, el Euro Shopping Channel fue el principal cliente que compró la mayor cantidad de productos."
   ]
  },
  {
   "cell_type": "markdown",
   "id": "b92f1865",
   "metadata": {},
   "source": [
    "¿Qué país tiene las mejores ventas?"
   ]
  },
  {
   "cell_type": "code",
   "execution_count": 22,
   "id": "ebc71900",
   "metadata": {},
   "outputs": [
    {
     "data": {
      "text/html": [
       "<div>\n",
       "<style scoped>\n",
       "    .dataframe tbody tr th:only-of-type {\n",
       "        vertical-align: middle;\n",
       "    }\n",
       "\n",
       "    .dataframe tbody tr th {\n",
       "        vertical-align: top;\n",
       "    }\n",
       "\n",
       "    .dataframe thead th {\n",
       "        text-align: right;\n",
       "    }\n",
       "</style>\n",
       "<table border=\"1\" class=\"dataframe\">\n",
       "  <thead>\n",
       "    <tr style=\"text-align: right;\">\n",
       "      <th></th>\n",
       "      <th>COUNTRY</th>\n",
       "      <th>SALES</th>\n",
       "      <th>iso_alpha</th>\n",
       "    </tr>\n",
       "  </thead>\n",
       "  <tbody>\n",
       "    <tr>\n",
       "      <th>0</th>\n",
       "      <td>Australia</td>\n",
       "      <td>630623.10</td>\n",
       "      <td>AUS</td>\n",
       "    </tr>\n",
       "    <tr>\n",
       "      <th>1</th>\n",
       "      <td>Austria</td>\n",
       "      <td>202062.53</td>\n",
       "      <td>AUT</td>\n",
       "    </tr>\n",
       "    <tr>\n",
       "      <th>2</th>\n",
       "      <td>Belgium</td>\n",
       "      <td>108412.62</td>\n",
       "      <td>BEL</td>\n",
       "    </tr>\n",
       "    <tr>\n",
       "      <th>3</th>\n",
       "      <td>Canada</td>\n",
       "      <td>224078.56</td>\n",
       "      <td>CAN</td>\n",
       "    </tr>\n",
       "    <tr>\n",
       "      <th>4</th>\n",
       "      <td>Denmark</td>\n",
       "      <td>245637.15</td>\n",
       "      <td>DNK</td>\n",
       "    </tr>\n",
       "    <tr>\n",
       "      <th>5</th>\n",
       "      <td>Finland</td>\n",
       "      <td>329581.91</td>\n",
       "      <td>FIN</td>\n",
       "    </tr>\n",
       "    <tr>\n",
       "      <th>6</th>\n",
       "      <td>France</td>\n",
       "      <td>1110916.52</td>\n",
       "      <td>FRA</td>\n",
       "    </tr>\n",
       "    <tr>\n",
       "      <th>7</th>\n",
       "      <td>Germany</td>\n",
       "      <td>220472.09</td>\n",
       "      <td>DEU</td>\n",
       "    </tr>\n",
       "    <tr>\n",
       "      <th>8</th>\n",
       "      <td>Ireland</td>\n",
       "      <td>57756.43</td>\n",
       "      <td>IRL</td>\n",
       "    </tr>\n",
       "    <tr>\n",
       "      <th>9</th>\n",
       "      <td>Italy</td>\n",
       "      <td>374674.31</td>\n",
       "      <td>ITA</td>\n",
       "    </tr>\n",
       "    <tr>\n",
       "      <th>10</th>\n",
       "      <td>Japan</td>\n",
       "      <td>188167.81</td>\n",
       "      <td>JPN</td>\n",
       "    </tr>\n",
       "    <tr>\n",
       "      <th>11</th>\n",
       "      <td>Norway</td>\n",
       "      <td>307463.70</td>\n",
       "      <td>NOR</td>\n",
       "    </tr>\n",
       "    <tr>\n",
       "      <th>12</th>\n",
       "      <td>Philippines</td>\n",
       "      <td>94015.73</td>\n",
       "      <td>PHL</td>\n",
       "    </tr>\n",
       "    <tr>\n",
       "      <th>13</th>\n",
       "      <td>Singapore</td>\n",
       "      <td>288488.41</td>\n",
       "      <td>SGP</td>\n",
       "    </tr>\n",
       "    <tr>\n",
       "      <th>14</th>\n",
       "      <td>Spain</td>\n",
       "      <td>1215686.92</td>\n",
       "      <td>ESP</td>\n",
       "    </tr>\n",
       "    <tr>\n",
       "      <th>15</th>\n",
       "      <td>Sweden</td>\n",
       "      <td>210014.21</td>\n",
       "      <td>SWE</td>\n",
       "    </tr>\n",
       "    <tr>\n",
       "      <th>16</th>\n",
       "      <td>Switzerland</td>\n",
       "      <td>117713.56</td>\n",
       "      <td>CHE</td>\n",
       "    </tr>\n",
       "    <tr>\n",
       "      <th>17</th>\n",
       "      <td>UK</td>\n",
       "      <td>478880.46</td>\n",
       "      <td>GBR</td>\n",
       "    </tr>\n",
       "    <tr>\n",
       "      <th>18</th>\n",
       "      <td>USA</td>\n",
       "      <td>3627982.83</td>\n",
       "      <td>USA</td>\n",
       "    </tr>\n",
       "  </tbody>\n",
       "</table>\n",
       "</div>"
      ],
      "text/plain": [
       "        COUNTRY       SALES iso_alpha\n",
       "0     Australia   630623.10       AUS\n",
       "1       Austria   202062.53       AUT\n",
       "2       Belgium   108412.62       BEL\n",
       "3        Canada   224078.56       CAN\n",
       "4       Denmark   245637.15       DNK\n",
       "5       Finland   329581.91       FIN\n",
       "6        France  1110916.52       FRA\n",
       "7       Germany   220472.09       DEU\n",
       "8       Ireland    57756.43       IRL\n",
       "9         Italy   374674.31       ITA\n",
       "10        Japan   188167.81       JPN\n",
       "11       Norway   307463.70       NOR\n",
       "12  Philippines    94015.73       PHL\n",
       "13    Singapore   288488.41       SGP\n",
       "14        Spain  1215686.92       ESP\n",
       "15       Sweden   210014.21       SWE\n",
       "16  Switzerland   117713.56       CHE\n",
       "17           UK   478880.46       GBR\n",
       "18          USA  3627982.83       USA"
      ]
     },
     "execution_count": 22,
     "metadata": {},
     "output_type": "execute_result"
    }
   ],
   "source": [
    "country = data.groupby(['COUNTRY'])['SALES'].sum().reset_index()\n",
    "# country\n",
    "short_form = ['AUS','AUT','BEL','CAN','DNK','FIN','FRA','DEU','IRL','ITA','JPN','NOR','PHL','SGP','ESP','SWE','CHE','GBR','USA']\n",
    "country['iso_alpha'] = short_form\n",
    "country"
   ]
  },
  {
   "cell_type": "code",
   "execution_count": 37,
   "id": "39f7a1d6",
   "metadata": {},
   "outputs": [
    {
     "ename": "TypeError",
     "evalue": "choropleth() got an unexpected keyword argument 'size_max'",
     "output_type": "error",
     "traceback": [
      "\u001b[1;31m---------------------------------------------------------------------------\u001b[0m",
      "\u001b[1;31mTypeError\u001b[0m                                 Traceback (most recent call last)",
      "Cell \u001b[1;32mIn[37], line 5\u001b[0m\n\u001b[0;32m      1\u001b[0m \u001b[38;5;28;01mimport\u001b[39;00m \u001b[38;5;21;01mplotly\u001b[39;00m\u001b[38;5;21;01m.\u001b[39;00m\u001b[38;5;21;01mexpress\u001b[39;00m \u001b[38;5;28;01mas\u001b[39;00m \u001b[38;5;21;01mpx\u001b[39;00m\n\u001b[0;32m      3\u001b[0m plt\u001b[38;5;241m.\u001b[39mfigure(figsize\u001b[38;5;241m=\u001b[39m(\u001b[38;5;241m8\u001b[39m, \u001b[38;5;241m6\u001b[39m))\n\u001b[1;32m----> 5\u001b[0m fig \u001b[38;5;241m=\u001b[39m \u001b[43mpx\u001b[49m\u001b[38;5;241;43m.\u001b[39;49m\u001b[43mchoropleth\u001b[49m\u001b[43m(\u001b[49m\u001b[43mcountry\u001b[49m\u001b[43m,\u001b[49m\u001b[43m \u001b[49m\u001b[43mlocations\u001b[49m\u001b[38;5;241;43m=\u001b[39;49m\u001b[38;5;124;43m'\u001b[39;49m\u001b[38;5;124;43miso_alpha\u001b[39;49m\u001b[38;5;124;43m'\u001b[39;49m\u001b[43m,\u001b[49m\u001b[43m \u001b[49m\u001b[43mcolor\u001b[49m\u001b[38;5;241;43m=\u001b[39;49m\u001b[38;5;124;43m'\u001b[39;49m\u001b[38;5;124;43mSALES\u001b[39;49m\u001b[38;5;124;43m'\u001b[39;49m\u001b[43m,\u001b[49m\u001b[43m \u001b[49m\u001b[43mscope\u001b[49m\u001b[38;5;241;43m=\u001b[39;49m\u001b[38;5;124;43m'\u001b[39;49m\u001b[38;5;124;43mworld\u001b[39;49m\u001b[38;5;124;43m'\u001b[39;49m\u001b[43m,\u001b[49m\u001b[43m \u001b[49m\u001b[43mhover_name\u001b[49m\u001b[38;5;241;43m=\u001b[39;49m\u001b[38;5;124;43m'\u001b[39;49m\u001b[38;5;124;43mCOUNTRY\u001b[39;49m\u001b[38;5;124;43m'\u001b[39;49m\u001b[43m,\u001b[49m\n\u001b[0;32m      6\u001b[0m \u001b[43m                    \u001b[49m\u001b[43mcolor_continuous_scale\u001b[49m\u001b[38;5;241;43m=\u001b[39;49m\u001b[38;5;124;43m'\u001b[39;49m\u001b[38;5;124;43mViridis\u001b[39;49m\u001b[38;5;124;43m'\u001b[39;49m\u001b[43m,\u001b[49m\u001b[43m \u001b[49m\u001b[43msize_max\u001b[49m\u001b[38;5;241;43m=\u001b[39;49m\u001b[38;5;241;43m30\u001b[39;49m\u001b[43m)\u001b[49m\n\u001b[0;32m      8\u001b[0m fig\u001b[38;5;241m.\u001b[39mupdate_layout(\n\u001b[0;32m      9\u001b[0m     title\u001b[38;5;241m=\u001b[39m\u001b[38;5;28mdict\u001b[39m(\n\u001b[0;32m     10\u001b[0m         text\u001b[38;5;241m=\u001b[39m\u001b[38;5;124m\"\u001b[39m\u001b[38;5;124mSales Distribution Across Countries\u001b[39m\u001b[38;5;124m\"\u001b[39m,\n\u001b[1;32m   (...)\u001b[0m\n\u001b[0;32m     22\u001b[0m     )\n\u001b[0;32m     23\u001b[0m )\n\u001b[0;32m     25\u001b[0m fig\u001b[38;5;241m.\u001b[39mshow()\n",
      "\u001b[1;31mTypeError\u001b[0m: choropleth() got an unexpected keyword argument 'size_max'"
     ]
    },
    {
     "data": {
      "text/plain": [
       "<Figure size 800x600 with 0 Axes>"
      ]
     },
     "metadata": {},
     "output_type": "display_data"
    }
   ],
   "source": [
    "plt.figure(figsize=(8,6))   # Establecer el ancho y alto de la figura.\n",
    "\n",
    "# Mapa de coropletas usando Plotly con colores más vibrantes\n",
    "fig = px.choropleth(country,locations = 'iso_alpha', color = \"SALES\", scope = \"world\", hover_name = \"COUNTRY\")\n",
    "\n",
    "# Actualización del mapa agregando el título y ajustando el diseño\n",
    "fig.update_layout(\n",
    "    title=dict(\n",
    "        text=\"Countries according to their Sales \",\n",
    "        xanchor='center',\n",
    "        x=0.5,\n",
    "        yref='paper',\n",
    "        yanchor='bottom',\n",
    "        y=0.9,\n",
    "        pad={'b': 60}\n",
    "    ),\n",
    "\n",
    ")\n",
    "fig.show()"
   ]
  },
  {
   "cell_type": "code",
   "execution_count": 41,
   "id": "64d9218a",
   "metadata": {},
   "outputs": [
    {
     "data": {
      "application/vnd.plotly.v1+json": {
       "config": {
        "plotlyServerURL": "https://plot.ly"
       },
       "data": [
        {
         "coloraxis": "coloraxis",
         "geo": "geo",
         "hovertemplate": "<b>%{hovertext}</b><br><br>iso_alpha=%{location}<br>Sales=%{z}<extra></extra>",
         "hovertext": [
          "Australia",
          "Austria",
          "Belgium",
          "Canada",
          "Denmark",
          "Finland",
          "France",
          "Germany",
          "Ireland",
          "Italy",
          "Japan",
          "Norway",
          "Philippines",
          "Singapore",
          "Spain",
          "Sweden",
          "Switzerland",
          "UK",
          "USA"
         ],
         "locations": [
          "AUS",
          "AUT",
          "BEL",
          "CAN",
          "DNK",
          "FIN",
          "FRA",
          "DEU",
          "IRL",
          "ITA",
          "JPN",
          "NOR",
          "PHL",
          "SGP",
          "ESP",
          "SWE",
          "CHE",
          "GBR",
          "USA"
         ],
         "name": "",
         "type": "choropleth",
         "z": [
          630623.1,
          202062.53,
          108412.62,
          224078.56,
          245637.15,
          329581.91,
          1110916.52,
          220472.09,
          57756.43,
          374674.31,
          188167.81,
          307463.7,
          94015.73,
          288488.41,
          1215686.92,
          210014.21,
          117713.56,
          478880.46,
          3627982.83
         ]
        }
       ],
       "layout": {
        "coloraxis": {
         "cmax": 3627982.83,
         "cmin": 57756.43,
         "colorbar": {
          "tickprefix": "$",
          "ticksuffix": "K",
          "title": {
           "text": "Sales"
          }
         },
         "colorscale": [
          [
           0,
           "#440154"
          ],
          [
           0.1111111111111111,
           "#482878"
          ],
          [
           0.2222222222222222,
           "#3e4989"
          ],
          [
           0.3333333333333333,
           "#31688e"
          ],
          [
           0.4444444444444444,
           "#26828e"
          ],
          [
           0.5555555555555556,
           "#1f9e89"
          ],
          [
           0.6666666666666666,
           "#35b779"
          ],
          [
           0.7777777777777778,
           "#6ece58"
          ],
          [
           0.8888888888888888,
           "#b5de2b"
          ],
          [
           1,
           "#fde725"
          ]
         ]
        },
        "geo": {
         "center": {},
         "domain": {
          "x": [
           0,
           1
          ],
          "y": [
           0,
           1
          ]
         },
         "scope": "world"
        },
        "legend": {
         "tracegroupgap": 0
        },
        "template": {
         "data": {
          "bar": [
           {
            "error_x": {
             "color": "#2a3f5f"
            },
            "error_y": {
             "color": "#2a3f5f"
            },
            "marker": {
             "line": {
              "color": "#E5ECF6",
              "width": 0.5
             },
             "pattern": {
              "fillmode": "overlay",
              "size": 10,
              "solidity": 0.2
             }
            },
            "type": "bar"
           }
          ],
          "barpolar": [
           {
            "marker": {
             "line": {
              "color": "#E5ECF6",
              "width": 0.5
             },
             "pattern": {
              "fillmode": "overlay",
              "size": 10,
              "solidity": 0.2
             }
            },
            "type": "barpolar"
           }
          ],
          "carpet": [
           {
            "aaxis": {
             "endlinecolor": "#2a3f5f",
             "gridcolor": "white",
             "linecolor": "white",
             "minorgridcolor": "white",
             "startlinecolor": "#2a3f5f"
            },
            "baxis": {
             "endlinecolor": "#2a3f5f",
             "gridcolor": "white",
             "linecolor": "white",
             "minorgridcolor": "white",
             "startlinecolor": "#2a3f5f"
            },
            "type": "carpet"
           }
          ],
          "choropleth": [
           {
            "colorbar": {
             "outlinewidth": 0,
             "ticks": ""
            },
            "type": "choropleth"
           }
          ],
          "contour": [
           {
            "colorbar": {
             "outlinewidth": 0,
             "ticks": ""
            },
            "colorscale": [
             [
              0,
              "#0d0887"
             ],
             [
              0.1111111111111111,
              "#46039f"
             ],
             [
              0.2222222222222222,
              "#7201a8"
             ],
             [
              0.3333333333333333,
              "#9c179e"
             ],
             [
              0.4444444444444444,
              "#bd3786"
             ],
             [
              0.5555555555555556,
              "#d8576b"
             ],
             [
              0.6666666666666666,
              "#ed7953"
             ],
             [
              0.7777777777777778,
              "#fb9f3a"
             ],
             [
              0.8888888888888888,
              "#fdca26"
             ],
             [
              1,
              "#f0f921"
             ]
            ],
            "type": "contour"
           }
          ],
          "contourcarpet": [
           {
            "colorbar": {
             "outlinewidth": 0,
             "ticks": ""
            },
            "type": "contourcarpet"
           }
          ],
          "heatmap": [
           {
            "colorbar": {
             "outlinewidth": 0,
             "ticks": ""
            },
            "colorscale": [
             [
              0,
              "#0d0887"
             ],
             [
              0.1111111111111111,
              "#46039f"
             ],
             [
              0.2222222222222222,
              "#7201a8"
             ],
             [
              0.3333333333333333,
              "#9c179e"
             ],
             [
              0.4444444444444444,
              "#bd3786"
             ],
             [
              0.5555555555555556,
              "#d8576b"
             ],
             [
              0.6666666666666666,
              "#ed7953"
             ],
             [
              0.7777777777777778,
              "#fb9f3a"
             ],
             [
              0.8888888888888888,
              "#fdca26"
             ],
             [
              1,
              "#f0f921"
             ]
            ],
            "type": "heatmap"
           }
          ],
          "heatmapgl": [
           {
            "colorbar": {
             "outlinewidth": 0,
             "ticks": ""
            },
            "colorscale": [
             [
              0,
              "#0d0887"
             ],
             [
              0.1111111111111111,
              "#46039f"
             ],
             [
              0.2222222222222222,
              "#7201a8"
             ],
             [
              0.3333333333333333,
              "#9c179e"
             ],
             [
              0.4444444444444444,
              "#bd3786"
             ],
             [
              0.5555555555555556,
              "#d8576b"
             ],
             [
              0.6666666666666666,
              "#ed7953"
             ],
             [
              0.7777777777777778,
              "#fb9f3a"
             ],
             [
              0.8888888888888888,
              "#fdca26"
             ],
             [
              1,
              "#f0f921"
             ]
            ],
            "type": "heatmapgl"
           }
          ],
          "histogram": [
           {
            "marker": {
             "pattern": {
              "fillmode": "overlay",
              "size": 10,
              "solidity": 0.2
             }
            },
            "type": "histogram"
           }
          ],
          "histogram2d": [
           {
            "colorbar": {
             "outlinewidth": 0,
             "ticks": ""
            },
            "colorscale": [
             [
              0,
              "#0d0887"
             ],
             [
              0.1111111111111111,
              "#46039f"
             ],
             [
              0.2222222222222222,
              "#7201a8"
             ],
             [
              0.3333333333333333,
              "#9c179e"
             ],
             [
              0.4444444444444444,
              "#bd3786"
             ],
             [
              0.5555555555555556,
              "#d8576b"
             ],
             [
              0.6666666666666666,
              "#ed7953"
             ],
             [
              0.7777777777777778,
              "#fb9f3a"
             ],
             [
              0.8888888888888888,
              "#fdca26"
             ],
             [
              1,
              "#f0f921"
             ]
            ],
            "type": "histogram2d"
           }
          ],
          "histogram2dcontour": [
           {
            "colorbar": {
             "outlinewidth": 0,
             "ticks": ""
            },
            "colorscale": [
             [
              0,
              "#0d0887"
             ],
             [
              0.1111111111111111,
              "#46039f"
             ],
             [
              0.2222222222222222,
              "#7201a8"
             ],
             [
              0.3333333333333333,
              "#9c179e"
             ],
             [
              0.4444444444444444,
              "#bd3786"
             ],
             [
              0.5555555555555556,
              "#d8576b"
             ],
             [
              0.6666666666666666,
              "#ed7953"
             ],
             [
              0.7777777777777778,
              "#fb9f3a"
             ],
             [
              0.8888888888888888,
              "#fdca26"
             ],
             [
              1,
              "#f0f921"
             ]
            ],
            "type": "histogram2dcontour"
           }
          ],
          "mesh3d": [
           {
            "colorbar": {
             "outlinewidth": 0,
             "ticks": ""
            },
            "type": "mesh3d"
           }
          ],
          "parcoords": [
           {
            "line": {
             "colorbar": {
              "outlinewidth": 0,
              "ticks": ""
             }
            },
            "type": "parcoords"
           }
          ],
          "pie": [
           {
            "automargin": true,
            "type": "pie"
           }
          ],
          "scatter": [
           {
            "fillpattern": {
             "fillmode": "overlay",
             "size": 10,
             "solidity": 0.2
            },
            "type": "scatter"
           }
          ],
          "scatter3d": [
           {
            "line": {
             "colorbar": {
              "outlinewidth": 0,
              "ticks": ""
             }
            },
            "marker": {
             "colorbar": {
              "outlinewidth": 0,
              "ticks": ""
             }
            },
            "type": "scatter3d"
           }
          ],
          "scattercarpet": [
           {
            "marker": {
             "colorbar": {
              "outlinewidth": 0,
              "ticks": ""
             }
            },
            "type": "scattercarpet"
           }
          ],
          "scattergeo": [
           {
            "marker": {
             "colorbar": {
              "outlinewidth": 0,
              "ticks": ""
             }
            },
            "type": "scattergeo"
           }
          ],
          "scattergl": [
           {
            "marker": {
             "colorbar": {
              "outlinewidth": 0,
              "ticks": ""
             }
            },
            "type": "scattergl"
           }
          ],
          "scattermapbox": [
           {
            "marker": {
             "colorbar": {
              "outlinewidth": 0,
              "ticks": ""
             }
            },
            "type": "scattermapbox"
           }
          ],
          "scatterpolar": [
           {
            "marker": {
             "colorbar": {
              "outlinewidth": 0,
              "ticks": ""
             }
            },
            "type": "scatterpolar"
           }
          ],
          "scatterpolargl": [
           {
            "marker": {
             "colorbar": {
              "outlinewidth": 0,
              "ticks": ""
             }
            },
            "type": "scatterpolargl"
           }
          ],
          "scatterternary": [
           {
            "marker": {
             "colorbar": {
              "outlinewidth": 0,
              "ticks": ""
             }
            },
            "type": "scatterternary"
           }
          ],
          "surface": [
           {
            "colorbar": {
             "outlinewidth": 0,
             "ticks": ""
            },
            "colorscale": [
             [
              0,
              "#0d0887"
             ],
             [
              0.1111111111111111,
              "#46039f"
             ],
             [
              0.2222222222222222,
              "#7201a8"
             ],
             [
              0.3333333333333333,
              "#9c179e"
             ],
             [
              0.4444444444444444,
              "#bd3786"
             ],
             [
              0.5555555555555556,
              "#d8576b"
             ],
             [
              0.6666666666666666,
              "#ed7953"
             ],
             [
              0.7777777777777778,
              "#fb9f3a"
             ],
             [
              0.8888888888888888,
              "#fdca26"
             ],
             [
              1,
              "#f0f921"
             ]
            ],
            "type": "surface"
           }
          ],
          "table": [
           {
            "cells": {
             "fill": {
              "color": "#EBF0F8"
             },
             "line": {
              "color": "white"
             }
            },
            "header": {
             "fill": {
              "color": "#C8D4E3"
             },
             "line": {
              "color": "white"
             }
            },
            "type": "table"
           }
          ]
         },
         "layout": {
          "annotationdefaults": {
           "arrowcolor": "#2a3f5f",
           "arrowhead": 0,
           "arrowwidth": 1
          },
          "autotypenumbers": "strict",
          "coloraxis": {
           "colorbar": {
            "outlinewidth": 0,
            "ticks": ""
           }
          },
          "colorscale": {
           "diverging": [
            [
             0,
             "#8e0152"
            ],
            [
             0.1,
             "#c51b7d"
            ],
            [
             0.2,
             "#de77ae"
            ],
            [
             0.3,
             "#f1b6da"
            ],
            [
             0.4,
             "#fde0ef"
            ],
            [
             0.5,
             "#f7f7f7"
            ],
            [
             0.6,
             "#e6f5d0"
            ],
            [
             0.7,
             "#b8e186"
            ],
            [
             0.8,
             "#7fbc41"
            ],
            [
             0.9,
             "#4d9221"
            ],
            [
             1,
             "#276419"
            ]
           ],
           "sequential": [
            [
             0,
             "#0d0887"
            ],
            [
             0.1111111111111111,
             "#46039f"
            ],
            [
             0.2222222222222222,
             "#7201a8"
            ],
            [
             0.3333333333333333,
             "#9c179e"
            ],
            [
             0.4444444444444444,
             "#bd3786"
            ],
            [
             0.5555555555555556,
             "#d8576b"
            ],
            [
             0.6666666666666666,
             "#ed7953"
            ],
            [
             0.7777777777777778,
             "#fb9f3a"
            ],
            [
             0.8888888888888888,
             "#fdca26"
            ],
            [
             1,
             "#f0f921"
            ]
           ],
           "sequentialminus": [
            [
             0,
             "#0d0887"
            ],
            [
             0.1111111111111111,
             "#46039f"
            ],
            [
             0.2222222222222222,
             "#7201a8"
            ],
            [
             0.3333333333333333,
             "#9c179e"
            ],
            [
             0.4444444444444444,
             "#bd3786"
            ],
            [
             0.5555555555555556,
             "#d8576b"
            ],
            [
             0.6666666666666666,
             "#ed7953"
            ],
            [
             0.7777777777777778,
             "#fb9f3a"
            ],
            [
             0.8888888888888888,
             "#fdca26"
            ],
            [
             1,
             "#f0f921"
            ]
           ]
          },
          "colorway": [
           "#636efa",
           "#EF553B",
           "#00cc96",
           "#ab63fa",
           "#FFA15A",
           "#19d3f3",
           "#FF6692",
           "#B6E880",
           "#FF97FF",
           "#FECB52"
          ],
          "font": {
           "color": "#2a3f5f"
          },
          "geo": {
           "bgcolor": "white",
           "lakecolor": "white",
           "landcolor": "#E5ECF6",
           "showlakes": true,
           "showland": true,
           "subunitcolor": "white"
          },
          "hoverlabel": {
           "align": "left"
          },
          "hovermode": "closest",
          "mapbox": {
           "style": "light"
          },
          "paper_bgcolor": "white",
          "plot_bgcolor": "#E5ECF6",
          "polar": {
           "angularaxis": {
            "gridcolor": "white",
            "linecolor": "white",
            "ticks": ""
           },
           "bgcolor": "#E5ECF6",
           "radialaxis": {
            "gridcolor": "white",
            "linecolor": "white",
            "ticks": ""
           }
          },
          "scene": {
           "xaxis": {
            "backgroundcolor": "#E5ECF6",
            "gridcolor": "white",
            "gridwidth": 2,
            "linecolor": "white",
            "showbackground": true,
            "ticks": "",
            "zerolinecolor": "white"
           },
           "yaxis": {
            "backgroundcolor": "#E5ECF6",
            "gridcolor": "white",
            "gridwidth": 2,
            "linecolor": "white",
            "showbackground": true,
            "ticks": "",
            "zerolinecolor": "white"
           },
           "zaxis": {
            "backgroundcolor": "#E5ECF6",
            "gridcolor": "white",
            "gridwidth": 2,
            "linecolor": "white",
            "showbackground": true,
            "ticks": "",
            "zerolinecolor": "white"
           }
          },
          "shapedefaults": {
           "line": {
            "color": "#2a3f5f"
           }
          },
          "ternary": {
           "aaxis": {
            "gridcolor": "white",
            "linecolor": "white",
            "ticks": ""
           },
           "baxis": {
            "gridcolor": "white",
            "linecolor": "white",
            "ticks": ""
           },
           "bgcolor": "#E5ECF6",
           "caxis": {
            "gridcolor": "white",
            "linecolor": "white",
            "ticks": ""
           }
          },
          "title": {
           "x": 0.05
          },
          "xaxis": {
           "automargin": true,
           "gridcolor": "white",
           "linecolor": "white",
           "ticks": "",
           "title": {
            "standoff": 15
           },
           "zerolinecolor": "white",
           "zerolinewidth": 2
          },
          "yaxis": {
           "automargin": true,
           "gridcolor": "white",
           "linecolor": "white",
           "ticks": "",
           "title": {
            "standoff": 15
           },
           "zerolinecolor": "white",
           "zerolinewidth": 2
          }
         }
        },
        "title": {
         "text": "Sales Distribution Across Countries"
        }
       }
      },
      "text/html": [
       "<div>                            <div id=\"3fab1c8d-0b30-4cfa-b2a5-88bfaea3c972\" class=\"plotly-graph-div\" style=\"height:525px; width:100%;\"></div>            <script type=\"text/javascript\">                require([\"plotly\"], function(Plotly) {                    window.PLOTLYENV=window.PLOTLYENV || {};                                    if (document.getElementById(\"3fab1c8d-0b30-4cfa-b2a5-88bfaea3c972\")) {                    Plotly.newPlot(                        \"3fab1c8d-0b30-4cfa-b2a5-88bfaea3c972\",                        [{\"coloraxis\":\"coloraxis\",\"geo\":\"geo\",\"hovertemplate\":\"<b>%{hovertext}</b><br><br>iso_alpha=%{location}<br>Sales=%{z}<extra></extra>\",\"hovertext\":[\"Australia\",\"Austria\",\"Belgium\",\"Canada\",\"Denmark\",\"Finland\",\"France\",\"Germany\",\"Ireland\",\"Italy\",\"Japan\",\"Norway\",\"Philippines\",\"Singapore\",\"Spain\",\"Sweden\",\"Switzerland\",\"UK\",\"USA\"],\"locations\":[\"AUS\",\"AUT\",\"BEL\",\"CAN\",\"DNK\",\"FIN\",\"FRA\",\"DEU\",\"IRL\",\"ITA\",\"JPN\",\"NOR\",\"PHL\",\"SGP\",\"ESP\",\"SWE\",\"CHE\",\"GBR\",\"USA\"],\"name\":\"\",\"z\":[630623.1,202062.53,108412.62,224078.56,245637.15,329581.91,1110916.52,220472.09,57756.43,374674.31,188167.81,307463.7,94015.73,288488.41,1215686.92,210014.21,117713.56,478880.46,3627982.83],\"type\":\"choropleth\"}],                        {\"template\":{\"data\":{\"histogram2dcontour\":[{\"type\":\"histogram2dcontour\",\"colorbar\":{\"outlinewidth\":0,\"ticks\":\"\"},\"colorscale\":[[0.0,\"#0d0887\"],[0.1111111111111111,\"#46039f\"],[0.2222222222222222,\"#7201a8\"],[0.3333333333333333,\"#9c179e\"],[0.4444444444444444,\"#bd3786\"],[0.5555555555555556,\"#d8576b\"],[0.6666666666666666,\"#ed7953\"],[0.7777777777777778,\"#fb9f3a\"],[0.8888888888888888,\"#fdca26\"],[1.0,\"#f0f921\"]]}],\"choropleth\":[{\"type\":\"choropleth\",\"colorbar\":{\"outlinewidth\":0,\"ticks\":\"\"}}],\"histogram2d\":[{\"type\":\"histogram2d\",\"colorbar\":{\"outlinewidth\":0,\"ticks\":\"\"},\"colorscale\":[[0.0,\"#0d0887\"],[0.1111111111111111,\"#46039f\"],[0.2222222222222222,\"#7201a8\"],[0.3333333333333333,\"#9c179e\"],[0.4444444444444444,\"#bd3786\"],[0.5555555555555556,\"#d8576b\"],[0.6666666666666666,\"#ed7953\"],[0.7777777777777778,\"#fb9f3a\"],[0.8888888888888888,\"#fdca26\"],[1.0,\"#f0f921\"]]}],\"heatmap\":[{\"type\":\"heatmap\",\"colorbar\":{\"outlinewidth\":0,\"ticks\":\"\"},\"colorscale\":[[0.0,\"#0d0887\"],[0.1111111111111111,\"#46039f\"],[0.2222222222222222,\"#7201a8\"],[0.3333333333333333,\"#9c179e\"],[0.4444444444444444,\"#bd3786\"],[0.5555555555555556,\"#d8576b\"],[0.6666666666666666,\"#ed7953\"],[0.7777777777777778,\"#fb9f3a\"],[0.8888888888888888,\"#fdca26\"],[1.0,\"#f0f921\"]]}],\"heatmapgl\":[{\"type\":\"heatmapgl\",\"colorbar\":{\"outlinewidth\":0,\"ticks\":\"\"},\"colorscale\":[[0.0,\"#0d0887\"],[0.1111111111111111,\"#46039f\"],[0.2222222222222222,\"#7201a8\"],[0.3333333333333333,\"#9c179e\"],[0.4444444444444444,\"#bd3786\"],[0.5555555555555556,\"#d8576b\"],[0.6666666666666666,\"#ed7953\"],[0.7777777777777778,\"#fb9f3a\"],[0.8888888888888888,\"#fdca26\"],[1.0,\"#f0f921\"]]}],\"contourcarpet\":[{\"type\":\"contourcarpet\",\"colorbar\":{\"outlinewidth\":0,\"ticks\":\"\"}}],\"contour\":[{\"type\":\"contour\",\"colorbar\":{\"outlinewidth\":0,\"ticks\":\"\"},\"colorscale\":[[0.0,\"#0d0887\"],[0.1111111111111111,\"#46039f\"],[0.2222222222222222,\"#7201a8\"],[0.3333333333333333,\"#9c179e\"],[0.4444444444444444,\"#bd3786\"],[0.5555555555555556,\"#d8576b\"],[0.6666666666666666,\"#ed7953\"],[0.7777777777777778,\"#fb9f3a\"],[0.8888888888888888,\"#fdca26\"],[1.0,\"#f0f921\"]]}],\"surface\":[{\"type\":\"surface\",\"colorbar\":{\"outlinewidth\":0,\"ticks\":\"\"},\"colorscale\":[[0.0,\"#0d0887\"],[0.1111111111111111,\"#46039f\"],[0.2222222222222222,\"#7201a8\"],[0.3333333333333333,\"#9c179e\"],[0.4444444444444444,\"#bd3786\"],[0.5555555555555556,\"#d8576b\"],[0.6666666666666666,\"#ed7953\"],[0.7777777777777778,\"#fb9f3a\"],[0.8888888888888888,\"#fdca26\"],[1.0,\"#f0f921\"]]}],\"mesh3d\":[{\"type\":\"mesh3d\",\"colorbar\":{\"outlinewidth\":0,\"ticks\":\"\"}}],\"scatter\":[{\"fillpattern\":{\"fillmode\":\"overlay\",\"size\":10,\"solidity\":0.2},\"type\":\"scatter\"}],\"parcoords\":[{\"type\":\"parcoords\",\"line\":{\"colorbar\":{\"outlinewidth\":0,\"ticks\":\"\"}}}],\"scatterpolargl\":[{\"type\":\"scatterpolargl\",\"marker\":{\"colorbar\":{\"outlinewidth\":0,\"ticks\":\"\"}}}],\"bar\":[{\"error_x\":{\"color\":\"#2a3f5f\"},\"error_y\":{\"color\":\"#2a3f5f\"},\"marker\":{\"line\":{\"color\":\"#E5ECF6\",\"width\":0.5},\"pattern\":{\"fillmode\":\"overlay\",\"size\":10,\"solidity\":0.2}},\"type\":\"bar\"}],\"scattergeo\":[{\"type\":\"scattergeo\",\"marker\":{\"colorbar\":{\"outlinewidth\":0,\"ticks\":\"\"}}}],\"scatterpolar\":[{\"type\":\"scatterpolar\",\"marker\":{\"colorbar\":{\"outlinewidth\":0,\"ticks\":\"\"}}}],\"histogram\":[{\"marker\":{\"pattern\":{\"fillmode\":\"overlay\",\"size\":10,\"solidity\":0.2}},\"type\":\"histogram\"}],\"scattergl\":[{\"type\":\"scattergl\",\"marker\":{\"colorbar\":{\"outlinewidth\":0,\"ticks\":\"\"}}}],\"scatter3d\":[{\"type\":\"scatter3d\",\"line\":{\"colorbar\":{\"outlinewidth\":0,\"ticks\":\"\"}},\"marker\":{\"colorbar\":{\"outlinewidth\":0,\"ticks\":\"\"}}}],\"scattermapbox\":[{\"type\":\"scattermapbox\",\"marker\":{\"colorbar\":{\"outlinewidth\":0,\"ticks\":\"\"}}}],\"scatterternary\":[{\"type\":\"scatterternary\",\"marker\":{\"colorbar\":{\"outlinewidth\":0,\"ticks\":\"\"}}}],\"scattercarpet\":[{\"type\":\"scattercarpet\",\"marker\":{\"colorbar\":{\"outlinewidth\":0,\"ticks\":\"\"}}}],\"carpet\":[{\"aaxis\":{\"endlinecolor\":\"#2a3f5f\",\"gridcolor\":\"white\",\"linecolor\":\"white\",\"minorgridcolor\":\"white\",\"startlinecolor\":\"#2a3f5f\"},\"baxis\":{\"endlinecolor\":\"#2a3f5f\",\"gridcolor\":\"white\",\"linecolor\":\"white\",\"minorgridcolor\":\"white\",\"startlinecolor\":\"#2a3f5f\"},\"type\":\"carpet\"}],\"table\":[{\"cells\":{\"fill\":{\"color\":\"#EBF0F8\"},\"line\":{\"color\":\"white\"}},\"header\":{\"fill\":{\"color\":\"#C8D4E3\"},\"line\":{\"color\":\"white\"}},\"type\":\"table\"}],\"barpolar\":[{\"marker\":{\"line\":{\"color\":\"#E5ECF6\",\"width\":0.5},\"pattern\":{\"fillmode\":\"overlay\",\"size\":10,\"solidity\":0.2}},\"type\":\"barpolar\"}],\"pie\":[{\"automargin\":true,\"type\":\"pie\"}]},\"layout\":{\"autotypenumbers\":\"strict\",\"colorway\":[\"#636efa\",\"#EF553B\",\"#00cc96\",\"#ab63fa\",\"#FFA15A\",\"#19d3f3\",\"#FF6692\",\"#B6E880\",\"#FF97FF\",\"#FECB52\"],\"font\":{\"color\":\"#2a3f5f\"},\"hovermode\":\"closest\",\"hoverlabel\":{\"align\":\"left\"},\"paper_bgcolor\":\"white\",\"plot_bgcolor\":\"#E5ECF6\",\"polar\":{\"bgcolor\":\"#E5ECF6\",\"angularaxis\":{\"gridcolor\":\"white\",\"linecolor\":\"white\",\"ticks\":\"\"},\"radialaxis\":{\"gridcolor\":\"white\",\"linecolor\":\"white\",\"ticks\":\"\"}},\"ternary\":{\"bgcolor\":\"#E5ECF6\",\"aaxis\":{\"gridcolor\":\"white\",\"linecolor\":\"white\",\"ticks\":\"\"},\"baxis\":{\"gridcolor\":\"white\",\"linecolor\":\"white\",\"ticks\":\"\"},\"caxis\":{\"gridcolor\":\"white\",\"linecolor\":\"white\",\"ticks\":\"\"}},\"coloraxis\":{\"colorbar\":{\"outlinewidth\":0,\"ticks\":\"\"}},\"colorscale\":{\"sequential\":[[0.0,\"#0d0887\"],[0.1111111111111111,\"#46039f\"],[0.2222222222222222,\"#7201a8\"],[0.3333333333333333,\"#9c179e\"],[0.4444444444444444,\"#bd3786\"],[0.5555555555555556,\"#d8576b\"],[0.6666666666666666,\"#ed7953\"],[0.7777777777777778,\"#fb9f3a\"],[0.8888888888888888,\"#fdca26\"],[1.0,\"#f0f921\"]],\"sequentialminus\":[[0.0,\"#0d0887\"],[0.1111111111111111,\"#46039f\"],[0.2222222222222222,\"#7201a8\"],[0.3333333333333333,\"#9c179e\"],[0.4444444444444444,\"#bd3786\"],[0.5555555555555556,\"#d8576b\"],[0.6666666666666666,\"#ed7953\"],[0.7777777777777778,\"#fb9f3a\"],[0.8888888888888888,\"#fdca26\"],[1.0,\"#f0f921\"]],\"diverging\":[[0,\"#8e0152\"],[0.1,\"#c51b7d\"],[0.2,\"#de77ae\"],[0.3,\"#f1b6da\"],[0.4,\"#fde0ef\"],[0.5,\"#f7f7f7\"],[0.6,\"#e6f5d0\"],[0.7,\"#b8e186\"],[0.8,\"#7fbc41\"],[0.9,\"#4d9221\"],[1,\"#276419\"]]},\"xaxis\":{\"gridcolor\":\"white\",\"linecolor\":\"white\",\"ticks\":\"\",\"title\":{\"standoff\":15},\"zerolinecolor\":\"white\",\"automargin\":true,\"zerolinewidth\":2},\"yaxis\":{\"gridcolor\":\"white\",\"linecolor\":\"white\",\"ticks\":\"\",\"title\":{\"standoff\":15},\"zerolinecolor\":\"white\",\"automargin\":true,\"zerolinewidth\":2},\"scene\":{\"xaxis\":{\"backgroundcolor\":\"#E5ECF6\",\"gridcolor\":\"white\",\"linecolor\":\"white\",\"showbackground\":true,\"ticks\":\"\",\"zerolinecolor\":\"white\",\"gridwidth\":2},\"yaxis\":{\"backgroundcolor\":\"#E5ECF6\",\"gridcolor\":\"white\",\"linecolor\":\"white\",\"showbackground\":true,\"ticks\":\"\",\"zerolinecolor\":\"white\",\"gridwidth\":2},\"zaxis\":{\"backgroundcolor\":\"#E5ECF6\",\"gridcolor\":\"white\",\"linecolor\":\"white\",\"showbackground\":true,\"ticks\":\"\",\"zerolinecolor\":\"white\",\"gridwidth\":2}},\"shapedefaults\":{\"line\":{\"color\":\"#2a3f5f\"}},\"annotationdefaults\":{\"arrowcolor\":\"#2a3f5f\",\"arrowhead\":0,\"arrowwidth\":1},\"geo\":{\"bgcolor\":\"white\",\"landcolor\":\"#E5ECF6\",\"subunitcolor\":\"white\",\"showland\":true,\"showlakes\":true,\"lakecolor\":\"white\"},\"title\":{\"x\":0.05},\"mapbox\":{\"style\":\"light\"}}},\"geo\":{\"domain\":{\"x\":[0.0,1.0],\"y\":[0.0,1.0]},\"center\":{},\"scope\":\"world\"},\"coloraxis\":{\"colorbar\":{\"title\":{\"text\":\"Sales\"},\"tickprefix\":\"$\",\"ticksuffix\":\"K\"},\"colorscale\":[[0.0,\"#440154\"],[0.1111111111111111,\"#482878\"],[0.2222222222222222,\"#3e4989\"],[0.3333333333333333,\"#31688e\"],[0.4444444444444444,\"#26828e\"],[0.5555555555555556,\"#1f9e89\"],[0.6666666666666666,\"#35b779\"],[0.7777777777777778,\"#6ece58\"],[0.8888888888888888,\"#b5de2b\"],[1.0,\"#fde725\"]],\"cmin\":57756.43,\"cmax\":3627982.83},\"legend\":{\"tracegroupgap\":0},\"title\":{\"text\":\"Sales Distribution Across Countries\"}},                        {\"responsive\": true}                    ).then(function(){\n",
       "                            \n",
       "var gd = document.getElementById('3fab1c8d-0b30-4cfa-b2a5-88bfaea3c972');\n",
       "var x = new MutationObserver(function (mutations, observer) {{\n",
       "        var display = window.getComputedStyle(gd).display;\n",
       "        if (!display || display === 'none') {{\n",
       "            console.log([gd, 'removed!']);\n",
       "            Plotly.purge(gd);\n",
       "            observer.disconnect();\n",
       "        }}\n",
       "}});\n",
       "\n",
       "// Listen for the removal of the full notebook cells\n",
       "var notebookContainer = gd.closest('#notebook-container');\n",
       "if (notebookContainer) {{\n",
       "    x.observe(notebookContainer, {childList: true});\n",
       "}}\n",
       "\n",
       "// Listen for the clearing of the current output cell\n",
       "var outputEl = gd.closest('.output');\n",
       "if (outputEl) {{\n",
       "    x.observe(outputEl, {childList: true});\n",
       "}}\n",
       "\n",
       "                        })                };                });            </script>        </div>"
      ]
     },
     "metadata": {},
     "output_type": "display_data"
    },
    {
     "data": {
      "text/plain": [
       "<Figure size 800x600 with 0 Axes>"
      ]
     },
     "metadata": {},
     "output_type": "display_data"
    }
   ],
   "source": [
    "plt.figure(figsize=(8, 6))              # Establecer el ancho y alto de la figura.\n",
    "\n",
    "fig = px.choropleth(country,            # Mapa de coropletas usando Plotly con colores más vibrantes\n",
    "                    locations='iso_alpha', \n",
    "                    color='SALES', \n",
    "                    scope='world', \n",
    "                    hover_name='COUNTRY',\n",
    "                    color_continuous_scale='Viridis', \n",
    "                    range_color=[country['SALES'].min(), country['SALES'].max()],\n",
    "                    labels={'SALES': 'Sales'},\n",
    "                    title=\"Sales Distribution Across Countries\"\n",
    "                   )\n",
    "\n",
    "fig.update_layout(                         # Actualización del mapa agregando el título y ajustando el diseño\n",
    "    coloraxis_colorbar=dict(\n",
    "        title=\"Sales\",\n",
    "        tickprefix=\"$\",\n",
    "        ticksuffix=\"K\",\n",
    "    )\n",
    ")\n",
    "\n",
    "fig.show()"
   ]
  },
  {
   "cell_type": "markdown",
   "id": "897bd9d5",
   "metadata": {},
   "source": [
    "Observaciones:\n",
    "Estados Unidos tuvo las mejores ventas del mundo seguido de España y Francia."
   ]
  },
  {
   "cell_type": "markdown",
   "id": "5299410f",
   "metadata": {},
   "source": [
    "¿Qué ciudad tiene las mejores ventas? ¿Por qué?"
   ]
  },
  {
   "cell_type": "code",
   "execution_count": 42,
   "id": "88cee752",
   "metadata": {},
   "outputs": [
    {
     "data": {
      "text/html": [
       "<div>\n",
       "<style scoped>\n",
       "    .dataframe tbody tr th:only-of-type {\n",
       "        vertical-align: middle;\n",
       "    }\n",
       "\n",
       "    .dataframe tbody tr th {\n",
       "        vertical-align: top;\n",
       "    }\n",
       "\n",
       "    .dataframe thead th {\n",
       "        text-align: right;\n",
       "    }\n",
       "</style>\n",
       "<table border=\"1\" class=\"dataframe\">\n",
       "  <thead>\n",
       "    <tr style=\"text-align: right;\">\n",
       "      <th></th>\n",
       "      <th>CITY</th>\n",
       "      <th>SALES</th>\n",
       "    </tr>\n",
       "  </thead>\n",
       "  <tbody>\n",
       "    <tr>\n",
       "      <th>0</th>\n",
       "      <td>Aaarhus</td>\n",
       "      <td>100595.55</td>\n",
       "    </tr>\n",
       "    <tr>\n",
       "      <th>1</th>\n",
       "      <td>Allentown</td>\n",
       "      <td>122138.14</td>\n",
       "    </tr>\n",
       "    <tr>\n",
       "      <th>2</th>\n",
       "      <td>Barcelona</td>\n",
       "      <td>78411.86</td>\n",
       "    </tr>\n",
       "    <tr>\n",
       "      <th>3</th>\n",
       "      <td>Bergamo</td>\n",
       "      <td>137955.72</td>\n",
       "    </tr>\n",
       "    <tr>\n",
       "      <th>4</th>\n",
       "      <td>Bergen</td>\n",
       "      <td>111640.28</td>\n",
       "    </tr>\n",
       "  </tbody>\n",
       "</table>\n",
       "</div>"
      ],
      "text/plain": [
       "        CITY      SALES\n",
       "0    Aaarhus  100595.55\n",
       "1  Allentown  122138.14\n",
       "2  Barcelona   78411.86\n",
       "3    Bergamo  137955.72\n",
       "4     Bergen  111640.28"
      ]
     },
     "execution_count": 42,
     "metadata": {},
     "output_type": "execute_result"
    }
   ],
   "source": [
    "cities = data.groupby(['CITY'])['SALES'].sum().reset_index()\n",
    "cities.head()"
   ]
  },
  {
   "cell_type": "code",
   "execution_count": 43,
   "id": "a2b4d9c3",
   "metadata": {},
   "outputs": [
    {
     "data": {
      "text/html": [
       "<div>\n",
       "<style scoped>\n",
       "    .dataframe tbody tr th:only-of-type {\n",
       "        vertical-align: middle;\n",
       "    }\n",
       "\n",
       "    .dataframe tbody tr th {\n",
       "        vertical-align: top;\n",
       "    }\n",
       "\n",
       "    .dataframe thead th {\n",
       "        text-align: right;\n",
       "    }\n",
       "</style>\n",
       "<table border=\"1\" class=\"dataframe\">\n",
       "  <thead>\n",
       "    <tr style=\"text-align: right;\">\n",
       "      <th></th>\n",
       "      <th>CITY</th>\n",
       "      <th>SALES</th>\n",
       "      <th>iso_alpha</th>\n",
       "      <th>latitude</th>\n",
       "      <th>longitude</th>\n",
       "    </tr>\n",
       "  </thead>\n",
       "  <tbody>\n",
       "    <tr>\n",
       "      <th>0</th>\n",
       "      <td>Aaarhus</td>\n",
       "      <td>100595.55</td>\n",
       "      <td>DNK</td>\n",
       "      <td>56.1629</td>\n",
       "      <td>10.2039</td>\n",
       "    </tr>\n",
       "    <tr>\n",
       "      <th>1</th>\n",
       "      <td>Allentown</td>\n",
       "      <td>122138.14</td>\n",
       "      <td>USA</td>\n",
       "      <td>40.6023</td>\n",
       "      <td>-75.4714</td>\n",
       "    </tr>\n",
       "    <tr>\n",
       "      <th>2</th>\n",
       "      <td>Barcelona</td>\n",
       "      <td>78411.86</td>\n",
       "      <td>ESP</td>\n",
       "      <td>41.3851</td>\n",
       "      <td>2.1734</td>\n",
       "    </tr>\n",
       "    <tr>\n",
       "      <th>3</th>\n",
       "      <td>Bergamo</td>\n",
       "      <td>137955.72</td>\n",
       "      <td>ITA</td>\n",
       "      <td>45.6983</td>\n",
       "      <td>9.6773</td>\n",
       "    </tr>\n",
       "    <tr>\n",
       "      <th>4</th>\n",
       "      <td>Bergen</td>\n",
       "      <td>111640.28</td>\n",
       "      <td>NOR</td>\n",
       "      <td>60.3913</td>\n",
       "      <td>5.3221</td>\n",
       "    </tr>\n",
       "    <tr>\n",
       "      <th>...</th>\n",
       "      <td>...</td>\n",
       "      <td>...</td>\n",
       "      <td>...</td>\n",
       "      <td>...</td>\n",
       "      <td>...</td>\n",
       "    </tr>\n",
       "    <tr>\n",
       "      <th>68</th>\n",
       "      <td>Toulouse</td>\n",
       "      <td>70488.44</td>\n",
       "      <td>FRA</td>\n",
       "      <td>43.6047</td>\n",
       "      <td>1.4442</td>\n",
       "    </tr>\n",
       "    <tr>\n",
       "      <th>69</th>\n",
       "      <td>Tsawassen</td>\n",
       "      <td>74634.85</td>\n",
       "      <td>CAN</td>\n",
       "      <td>49.0079</td>\n",
       "      <td>-123.0946</td>\n",
       "    </tr>\n",
       "    <tr>\n",
       "      <th>70</th>\n",
       "      <td>Vancouver</td>\n",
       "      <td>75238.92</td>\n",
       "      <td>CAN</td>\n",
       "      <td>49.2827</td>\n",
       "      <td>-123.1207</td>\n",
       "    </tr>\n",
       "    <tr>\n",
       "      <th>71</th>\n",
       "      <td>Versailles</td>\n",
       "      <td>64834.32</td>\n",
       "      <td>FRA</td>\n",
       "      <td>48.8014</td>\n",
       "      <td>2.1301</td>\n",
       "    </tr>\n",
       "    <tr>\n",
       "      <th>72</th>\n",
       "      <td>White Plains</td>\n",
       "      <td>85555.99</td>\n",
       "      <td>USA</td>\n",
       "      <td>41.0339</td>\n",
       "      <td>-73.7629</td>\n",
       "    </tr>\n",
       "  </tbody>\n",
       "</table>\n",
       "<p>73 rows × 5 columns</p>\n",
       "</div>"
      ],
      "text/plain": [
       "            CITY      SALES iso_alpha  latitude  longitude\n",
       "0        Aaarhus  100595.55       DNK   56.1629    10.2039\n",
       "1      Allentown  122138.14       USA   40.6023   -75.4714\n",
       "2      Barcelona   78411.86       ESP   41.3851     2.1734\n",
       "3        Bergamo  137955.72       ITA   45.6983     9.6773\n",
       "4         Bergen  111640.28       NOR   60.3913     5.3221\n",
       "..           ...        ...       ...       ...        ...\n",
       "68      Toulouse   70488.44       FRA   43.6047     1.4442\n",
       "69     Tsawassen   74634.85       CAN   49.0079  -123.0946\n",
       "70     Vancouver   75238.92       CAN   49.2827  -123.1207\n",
       "71    Versailles   64834.32       FRA   48.8014     2.1301\n",
       "72  White Plains   85555.99       USA   41.0339   -73.7629\n",
       "\n",
       "[73 rows x 5 columns]"
      ]
     },
     "execution_count": 43,
     "metadata": {},
     "output_type": "execute_result"
    }
   ],
   "source": [
    "df_coordinates = pd.read_csv(r'C:\\Users\\roble\\OneDrive\\Escritorio\\PROYECTOS PERSONALES\\cities.csv', encoding='ISO-8859-1', index_col=0)\n",
    "df_coordinates"
   ]
  },
  {
   "cell_type": "code",
   "execution_count": 45,
   "id": "ed360dee",
   "metadata": {},
   "outputs": [
    {
     "data": {
      "application/vnd.plotly.v1+json": {
       "config": {
        "plotlyServerURL": "https://plot.ly"
       },
       "data": [
        {
         "geo": "geo",
         "hovertemplate": "<b>%{hovertext}</b><br><br>iso_alpha=DNK<br>SALES=%{marker.size}<br>latitude=%{lat}<br>longitude=%{lon}<extra></extra>",
         "hovertext": [
          "Aaarhus",
          "Kobenhavn"
         ],
         "lat": [
          56.1629,
          55.6761
         ],
         "legendgroup": "DNK",
         "lon": [
          10.2039,
          12.5683
         ],
         "marker": {
          "color": "#636efa",
          "size": [
           100595.55,
           145041.6
          ],
          "sizemode": "area",
          "sizeref": 2706.3786,
          "symbol": "circle"
         },
         "mode": "markers",
         "name": "DNK",
         "showlegend": true,
         "type": "scattergeo"
        },
        {
         "geo": "geo",
         "hovertemplate": "<b>%{hovertext}</b><br><br>iso_alpha=USA<br>SALES=%{marker.size}<br>latitude=%{lat}<br>longitude=%{lon}<extra></extra>",
         "hovertext": [
          "Allentown",
          "Boston",
          "Brickhaven",
          "Bridgewater",
          "Burbank",
          "Burlingame",
          "Cambridge",
          "Glendale",
          "Las Vegas",
          "Los Angeles",
          "NYC",
          "Nashua",
          "New Bedford",
          "New Haven",
          "Newark",
          "Pasadena",
          "Philadelphia",
          "San Diego",
          "San Francisco",
          "San Jose",
          "San Rafael",
          "White Plains"
         ],
         "lat": [
          40.6023,
          42.3601,
          35.7915,
          40.5842,
          34.1808,
          37.5841,
          42.3736,
          34.1425,
          36.1699,
          34.0522,
          40.7128,
          42.7654,
          41.6362,
          41.3083,
          40.7357,
          34.1478,
          39.9526,
          32.7157,
          37.7749,
          37.3382,
          37.9735,
          41.0339
         ],
         "legendgroup": "USA",
         "lon": [
          -75.4714,
          -71.0589,
          -78.8067,
          -74.6248,
          -118.3089,
          -122.3661,
          -71.1097,
          -118.2551,
          -115.1398,
          -118.2437,
          -74.006,
          -71.4676,
          -70.9342,
          -72.9279,
          -74.1724,
          -118.1445,
          -75.1652,
          -117.1611,
          -122.4194,
          -121.8863,
          -122.5311,
          -73.7629
         ],
         "marker": {
          "color": "#EF553B",
          "size": [
           122138.14,
           154069.66,
           165255.2,
           101894.79,
           46084.64,
           120783.07,
           139244,
           66423.77,
           82751.08,
           48048.46,
           560787.77,
           131685.3,
           207874.86,
           79472.07,
           83228.19,
           104561.96,
           151189.13,
           87489.23,
           224358.68,
           160010.27,
           654858.06,
           85555.99
          ],
          "sizemode": "area",
          "sizeref": 2706.3786,
          "symbol": "circle"
         },
         "mode": "markers",
         "name": "USA",
         "showlegend": true,
         "type": "scattergeo"
        },
        {
         "geo": "geo",
         "hovertemplate": "<b>%{hovertext}</b><br><br>iso_alpha=ESP<br>SALES=%{marker.size}<br>latitude=%{lat}<br>longitude=%{lon}<extra></extra>",
         "hovertext": [
          "Barcelona",
          "Madrid",
          "Sevilla"
         ],
         "lat": [
          41.3851,
          40.4168,
          37.3891
         ],
         "legendgroup": "ESP",
         "lon": [
          2.1734,
          -3.7038,
          -5.9845
         ],
         "marker": {
          "color": "#00cc96",
          "size": [
           78411.86,
           1082551.44,
           54723.62
          ],
          "sizemode": "area",
          "sizeref": 2706.3786,
          "symbol": "circle"
         },
         "mode": "markers",
         "name": "ESP",
         "showlegend": true,
         "type": "scattergeo"
        },
        {
         "geo": "geo",
         "hovertemplate": "<b>%{hovertext}</b><br><br>iso_alpha=ITA<br>SALES=%{marker.size}<br>latitude=%{lat}<br>longitude=%{lon}<extra></extra>",
         "hovertext": [
          "Bergamo",
          "Reggio Emilia",
          "Torino"
         ],
         "lat": [
          45.6983,
          44.6983,
          45.0703
         ],
         "legendgroup": "ITA",
         "lon": [
          9.6773,
          10.6313,
          7.6869
         ],
         "marker": {
          "color": "#ab63fa",
          "size": [
           137955.72,
           142601.33,
           94117.26
          ],
          "sizemode": "area",
          "sizeref": 2706.3786,
          "symbol": "circle"
         },
         "mode": "markers",
         "name": "ITA",
         "showlegend": true,
         "type": "scattergeo"
        },
        {
         "geo": "geo",
         "hovertemplate": "<b>%{hovertext}</b><br><br>iso_alpha=NOR<br>SALES=%{marker.size}<br>latitude=%{lat}<br>longitude=%{lon}<extra></extra>",
         "hovertext": [
          "Bergen",
          "Oslo",
          "Stavern"
         ],
         "lat": [
          60.3913,
          59.9139,
          59.0298
         ],
         "legendgroup": "NOR",
         "lon": [
          5.3221,
          10.7522,
          10.0361
         ],
         "marker": {
          "color": "#FFA15A",
          "size": [
           111640.28,
           79224.23,
           116599.19
          ],
          "sizemode": "area",
          "sizeref": 2706.3786,
          "symbol": "circle"
         },
         "mode": "markers",
         "name": "NOR",
         "showlegend": true,
         "type": "scattergeo"
        },
        {
         "geo": "geo",
         "hovertemplate": "<b>%{hovertext}</b><br><br>iso_alpha=SWE<br>SALES=%{marker.size}<br>latitude=%{lat}<br>longitude=%{lon}<extra></extra>",
         "hovertext": [
          "Boras",
          "Lule"
         ],
         "lat": [
          57.721,
          65.5848
         ],
         "legendgroup": "SWE",
         "lon": [
          12.9401,
          22.1567
         ],
         "marker": {
          "color": "#19d3f3",
          "size": [
           134259.33,
           75754.88
          ],
          "sizemode": "area",
          "sizeref": 2706.3786,
          "symbol": "circle"
         },
         "mode": "markers",
         "name": "SWE",
         "showlegend": true,
         "type": "scattergeo"
        },
        {
         "geo": "geo",
         "hovertemplate": "<b>%{hovertext}</b><br><br>iso_alpha=AUS<br>SALES=%{marker.size}<br>latitude=%{lat}<br>longitude=%{lon}<extra></extra>",
         "hovertext": [
          "Brisbane",
          "Chatswood",
          "Glen Waverly",
          "Melbourne",
          "North Sydney",
          "South Brisbane"
         ],
         "lat": [
          -27.4698,
          -33.7956,
          -37.8802,
          -37.8136,
          -33.8393,
          -27.4848
         ],
         "legendgroup": "AUS",
         "lon": [
          153.0251,
          151.1831,
          145.1636,
          144.9631,
          151.2071,
          153.0281
         ],
         "marker": {
          "color": "#FF6692",
          "size": [
           50218.51,
           151570.98,
           64591.46,
           200995.41,
           153996.13,
           59469.12
          ],
          "sizemode": "area",
          "sizeref": 2706.3786,
          "symbol": "circle"
         },
         "mode": "markers",
         "name": "AUS",
         "showlegend": true,
         "type": "scattergeo"
        },
        {
         "geo": "geo",
         "hovertemplate": "<b>%{hovertext}</b><br><br>iso_alpha=BEL<br>SALES=%{marker.size}<br>latitude=%{lat}<br>longitude=%{lon}<extra></extra>",
         "hovertext": [
          "Bruxelles",
          "Charleroi"
         ],
         "lat": [
          50.8503,
          50.4108
         ],
         "legendgroup": "BEL",
         "lon": [
          4.3517,
          4.4446
         ],
         "marker": {
          "color": "#B6E880",
          "size": [
           74972.52,
           33440.1
          ],
          "sizemode": "area",
          "sizeref": 2706.3786,
          "symbol": "circle"
         },
         "mode": "markers",
         "name": "BEL",
         "showlegend": true,
         "type": "scattergeo"
        },
        {
         "geo": "geo",
         "hovertemplate": "<b>%{hovertext}</b><br><br>iso_alpha=GBR<br>SALES=%{marker.size}<br>latitude=%{lat}<br>longitude=%{lon}<extra></extra>",
         "hovertext": [
          "Cowes",
          "Liverpool",
          "London",
          "Manchester"
         ],
         "lat": [
          50.7659,
          53.4084,
          51.5074,
          53.4831
         ],
         "legendgroup": "GBR",
         "lon": [
          -1.2974,
          -2.9916,
          -0.1278,
          -2.2373
         ],
         "marker": {
          "color": "#FF97FF",
          "size": [
           78240.84,
           118008.27,
           124823.54,
           157807.81
          ],
          "sizemode": "area",
          "sizeref": 2706.3786,
          "symbol": "circle"
         },
         "mode": "markers",
         "name": "GBR",
         "showlegend": true,
         "type": "scattergeo"
        },
        {
         "geo": "geo",
         "hovertemplate": "<b>%{hovertext}</b><br><br>iso_alpha=IRL<br>SALES=%{marker.size}<br>latitude=%{lat}<br>longitude=%{lon}<extra></extra>",
         "hovertext": [
          "Dublin"
         ],
         "lat": [
          53.3498
         ],
         "legendgroup": "IRL",
         "lon": [
          -6.2603
         ],
         "marker": {
          "color": "#FECB52",
          "size": [
           57756.43
          ],
          "sizemode": "area",
          "sizeref": 2706.3786,
          "symbol": "circle"
         },
         "mode": "markers",
         "name": "IRL",
         "showlegend": true,
         "type": "scattergeo"
        },
        {
         "geo": "geo",
         "hovertemplate": "<b>%{hovertext}</b><br><br>iso_alpha=FIN<br>SALES=%{marker.size}<br>latitude=%{lat}<br>longitude=%{lon}<extra></extra>",
         "hovertext": [
          "Espoo",
          "Helsinki",
          "Oulu"
         ],
         "lat": [
          60.2055,
          60.1699,
          65.0121
         ],
         "legendgroup": "FIN",
         "lon": [
          24.6559,
          24.9384,
          25.4651
         ],
         "marker": {
          "color": "#636efa",
          "size": [
           113961.15,
           111250.38,
           104370.38
          ],
          "sizemode": "area",
          "sizeref": 2706.3786,
          "symbol": "circle"
         },
         "mode": "markers",
         "name": "FIN",
         "showlegend": true,
         "type": "scattergeo"
        },
        {
         "geo": "geo",
         "hovertemplate": "<b>%{hovertext}</b><br><br>iso_alpha=DEU<br>SALES=%{marker.size}<br>latitude=%{lat}<br>longitude=%{lon}<extra></extra>",
         "hovertext": [
          "Frankfurt",
          "Koln",
          "Munich"
         ],
         "lat": [
          50.1109,
          50.9375,
          48.1351
         ],
         "legendgroup": "DEU",
         "lon": [
          8.6821,
          6.9603,
          11.582
         ],
         "marker": {
          "color": "#EF553B",
          "size": [
           85171.59,
           100306.58,
           34993.92
          ],
          "sizemode": "area",
          "sizeref": 2706.3786,
          "symbol": "circle"
         },
         "mode": "markers",
         "name": "DEU",
         "showlegend": true,
         "type": "scattergeo"
        },
        {
         "geo": "geo",
         "hovertemplate": "<b>%{hovertext}</b><br><br>iso_alpha=CHE<br>SALES=%{marker.size}<br>latitude=%{lat}<br>longitude=%{lon}<extra></extra>",
         "hovertext": [
          "Gensve"
         ],
         "lat": [
          46.2044
         ],
         "legendgroup": "CHE",
         "lon": [
          6.1432
         ],
         "marker": {
          "color": "#00cc96",
          "size": [
           117713.56
          ],
          "sizemode": "area",
          "sizeref": 2706.3786,
          "symbol": "circle"
         },
         "mode": "markers",
         "name": "CHE",
         "showlegend": true,
         "type": "scattergeo"
        },
        {
         "geo": "geo",
         "hovertemplate": "<b>%{hovertext}</b><br><br>iso_alpha=AUT<br>SALES=%{marker.size}<br>latitude=%{lat}<br>longitude=%{lon}<extra></extra>",
         "hovertext": [
          "Graz",
          "Salzburg"
         ],
         "lat": [
          47.0707,
          47.8087
         ],
         "legendgroup": "AUT",
         "lon": [
          15.4395,
          13.055
         ],
         "marker": {
          "color": "#ab63fa",
          "size": [
           52263.9,
           149798.63
          ],
          "sizemode": "area",
          "sizeref": 2706.3786,
          "symbol": "circle"
         },
         "mode": "markers",
         "name": "AUT",
         "showlegend": true,
         "type": "scattergeo"
        },
        {
         "geo": "geo",
         "hovertemplate": "<b>%{hovertext}</b><br><br>iso_alpha=FRA<br>SALES=%{marker.size}<br>latitude=%{lat}<br>longitude=%{lon}<extra></extra>",
         "hovertext": [
          "Lille",
          "Lyon",
          "Marseille",
          "Nantes",
          "Paris",
          "Reims",
          "Strasbourg",
          "Toulouse",
          "Versailles"
         ],
         "lat": [
          50.6292,
          45.75,
          43.2965,
          47.2184,
          48.8566,
          49.2583,
          48.5839,
          43.6047,
          48.8014
         ],
         "legendgroup": "FRA",
         "lon": [
          3.0573,
          4.85,
          5.3698,
          -1.5536,
          2.3522,
          4.0317,
          7.7455,
          1.4442,
          2.1301
         ],
         "marker": {
          "color": "#FFA15A",
          "size": [
           69052.41,
           142874.25,
           74936.14,
           204304.86,
           268944.68,
           135042.94,
           80438.48,
           70488.44,
           64834.32
          ],
          "sizemode": "area",
          "sizeref": 2706.3786,
          "symbol": "circle"
         },
         "mode": "markers",
         "name": "FRA",
         "showlegend": true,
         "type": "scattergeo"
        },
        {
         "geo": "geo",
         "hovertemplate": "<b>%{hovertext}</b><br><br>iso_alpha=PHL<br>SALES=%{marker.size}<br>latitude=%{lat}<br>longitude=%{lon}<extra></extra>",
         "hovertext": [
          "Makati City"
         ],
         "lat": [
          14.5547
         ],
         "legendgroup": "PHL",
         "lon": [
          121.0244
         ],
         "marker": {
          "color": "#19d3f3",
          "size": [
           94015.73
          ],
          "sizemode": "area",
          "sizeref": 2706.3786,
          "symbol": "circle"
         },
         "mode": "markers",
         "name": "PHL",
         "showlegend": true,
         "type": "scattergeo"
        },
        {
         "geo": "geo",
         "hovertemplate": "<b>%{hovertext}</b><br><br>iso_alpha=JPN<br>SALES=%{marker.size}<br>latitude=%{lat}<br>longitude=%{lon}<extra></extra>",
         "hovertext": [
          "Minato-ku",
          "Osaka"
         ],
         "lat": [
          35.6581,
          34.6937
         ],
         "legendgroup": "JPN",
         "lon": [
          139.7514,
          135.5023
         ],
         "marker": {
          "color": "#FF6692",
          "size": [
           120562.74,
           67605.07
          ],
          "sizemode": "area",
          "sizeref": 2706.3786,
          "symbol": "circle"
         },
         "mode": "markers",
         "name": "JPN",
         "showlegend": true,
         "type": "scattergeo"
        },
        {
         "geo": "geo",
         "hovertemplate": "<b>%{hovertext}</b><br><br>iso_alpha=CAN<br>SALES=%{marker.size}<br>latitude=%{lat}<br>longitude=%{lon}<extra></extra>",
         "hovertext": [
          "Montreal",
          "Tsawassen",
          "Vancouver"
         ],
         "lat": [
          45.5017,
          49.0079,
          49.2827
         ],
         "legendgroup": "CAN",
         "lon": [
          -73.5673,
          -123.0946,
          -123.1207
         ],
         "marker": {
          "color": "#B6E880",
          "size": [
           74204.79,
           74634.85,
           75238.92
          ],
          "sizemode": "area",
          "sizeref": 2706.3786,
          "symbol": "circle"
         },
         "mode": "markers",
         "name": "CAN",
         "showlegend": true,
         "type": "scattergeo"
        },
        {
         "geo": "geo",
         "hovertemplate": "<b>%{hovertext}</b><br><br>iso_alpha=SGP<br>SALES=%{marker.size}<br>latitude=%{lat}<br>longitude=%{lon}<extra></extra>",
         "hovertext": [
          "Singapore"
         ],
         "lat": [
          1.3521
         ],
         "legendgroup": "SGP",
         "lon": [
          103.8198
         ],
         "marker": {
          "color": "#FF97FF",
          "size": [
           288488.41
          ],
          "sizemode": "area",
          "sizeref": 2706.3786,
          "symbol": "circle"
         },
         "mode": "markers",
         "name": "SGP",
         "showlegend": true,
         "type": "scattergeo"
        }
       ],
       "layout": {
        "geo": {
         "center": {},
         "domain": {
          "x": [
           0,
           1
          ],
          "y": [
           0,
           1
          ]
         }
        },
        "legend": {
         "itemsizing": "constant",
         "title": {
          "text": "iso_alpha"
         },
         "tracegroupgap": 0
        },
        "margin": {
         "t": 60
        },
        "template": {
         "data": {
          "bar": [
           {
            "error_x": {
             "color": "#2a3f5f"
            },
            "error_y": {
             "color": "#2a3f5f"
            },
            "marker": {
             "line": {
              "color": "#E5ECF6",
              "width": 0.5
             },
             "pattern": {
              "fillmode": "overlay",
              "size": 10,
              "solidity": 0.2
             }
            },
            "type": "bar"
           }
          ],
          "barpolar": [
           {
            "marker": {
             "line": {
              "color": "#E5ECF6",
              "width": 0.5
             },
             "pattern": {
              "fillmode": "overlay",
              "size": 10,
              "solidity": 0.2
             }
            },
            "type": "barpolar"
           }
          ],
          "carpet": [
           {
            "aaxis": {
             "endlinecolor": "#2a3f5f",
             "gridcolor": "white",
             "linecolor": "white",
             "minorgridcolor": "white",
             "startlinecolor": "#2a3f5f"
            },
            "baxis": {
             "endlinecolor": "#2a3f5f",
             "gridcolor": "white",
             "linecolor": "white",
             "minorgridcolor": "white",
             "startlinecolor": "#2a3f5f"
            },
            "type": "carpet"
           }
          ],
          "choropleth": [
           {
            "colorbar": {
             "outlinewidth": 0,
             "ticks": ""
            },
            "type": "choropleth"
           }
          ],
          "contour": [
           {
            "colorbar": {
             "outlinewidth": 0,
             "ticks": ""
            },
            "colorscale": [
             [
              0,
              "#0d0887"
             ],
             [
              0.1111111111111111,
              "#46039f"
             ],
             [
              0.2222222222222222,
              "#7201a8"
             ],
             [
              0.3333333333333333,
              "#9c179e"
             ],
             [
              0.4444444444444444,
              "#bd3786"
             ],
             [
              0.5555555555555556,
              "#d8576b"
             ],
             [
              0.6666666666666666,
              "#ed7953"
             ],
             [
              0.7777777777777778,
              "#fb9f3a"
             ],
             [
              0.8888888888888888,
              "#fdca26"
             ],
             [
              1,
              "#f0f921"
             ]
            ],
            "type": "contour"
           }
          ],
          "contourcarpet": [
           {
            "colorbar": {
             "outlinewidth": 0,
             "ticks": ""
            },
            "type": "contourcarpet"
           }
          ],
          "heatmap": [
           {
            "colorbar": {
             "outlinewidth": 0,
             "ticks": ""
            },
            "colorscale": [
             [
              0,
              "#0d0887"
             ],
             [
              0.1111111111111111,
              "#46039f"
             ],
             [
              0.2222222222222222,
              "#7201a8"
             ],
             [
              0.3333333333333333,
              "#9c179e"
             ],
             [
              0.4444444444444444,
              "#bd3786"
             ],
             [
              0.5555555555555556,
              "#d8576b"
             ],
             [
              0.6666666666666666,
              "#ed7953"
             ],
             [
              0.7777777777777778,
              "#fb9f3a"
             ],
             [
              0.8888888888888888,
              "#fdca26"
             ],
             [
              1,
              "#f0f921"
             ]
            ],
            "type": "heatmap"
           }
          ],
          "heatmapgl": [
           {
            "colorbar": {
             "outlinewidth": 0,
             "ticks": ""
            },
            "colorscale": [
             [
              0,
              "#0d0887"
             ],
             [
              0.1111111111111111,
              "#46039f"
             ],
             [
              0.2222222222222222,
              "#7201a8"
             ],
             [
              0.3333333333333333,
              "#9c179e"
             ],
             [
              0.4444444444444444,
              "#bd3786"
             ],
             [
              0.5555555555555556,
              "#d8576b"
             ],
             [
              0.6666666666666666,
              "#ed7953"
             ],
             [
              0.7777777777777778,
              "#fb9f3a"
             ],
             [
              0.8888888888888888,
              "#fdca26"
             ],
             [
              1,
              "#f0f921"
             ]
            ],
            "type": "heatmapgl"
           }
          ],
          "histogram": [
           {
            "marker": {
             "pattern": {
              "fillmode": "overlay",
              "size": 10,
              "solidity": 0.2
             }
            },
            "type": "histogram"
           }
          ],
          "histogram2d": [
           {
            "colorbar": {
             "outlinewidth": 0,
             "ticks": ""
            },
            "colorscale": [
             [
              0,
              "#0d0887"
             ],
             [
              0.1111111111111111,
              "#46039f"
             ],
             [
              0.2222222222222222,
              "#7201a8"
             ],
             [
              0.3333333333333333,
              "#9c179e"
             ],
             [
              0.4444444444444444,
              "#bd3786"
             ],
             [
              0.5555555555555556,
              "#d8576b"
             ],
             [
              0.6666666666666666,
              "#ed7953"
             ],
             [
              0.7777777777777778,
              "#fb9f3a"
             ],
             [
              0.8888888888888888,
              "#fdca26"
             ],
             [
              1,
              "#f0f921"
             ]
            ],
            "type": "histogram2d"
           }
          ],
          "histogram2dcontour": [
           {
            "colorbar": {
             "outlinewidth": 0,
             "ticks": ""
            },
            "colorscale": [
             [
              0,
              "#0d0887"
             ],
             [
              0.1111111111111111,
              "#46039f"
             ],
             [
              0.2222222222222222,
              "#7201a8"
             ],
             [
              0.3333333333333333,
              "#9c179e"
             ],
             [
              0.4444444444444444,
              "#bd3786"
             ],
             [
              0.5555555555555556,
              "#d8576b"
             ],
             [
              0.6666666666666666,
              "#ed7953"
             ],
             [
              0.7777777777777778,
              "#fb9f3a"
             ],
             [
              0.8888888888888888,
              "#fdca26"
             ],
             [
              1,
              "#f0f921"
             ]
            ],
            "type": "histogram2dcontour"
           }
          ],
          "mesh3d": [
           {
            "colorbar": {
             "outlinewidth": 0,
             "ticks": ""
            },
            "type": "mesh3d"
           }
          ],
          "parcoords": [
           {
            "line": {
             "colorbar": {
              "outlinewidth": 0,
              "ticks": ""
             }
            },
            "type": "parcoords"
           }
          ],
          "pie": [
           {
            "automargin": true,
            "type": "pie"
           }
          ],
          "scatter": [
           {
            "fillpattern": {
             "fillmode": "overlay",
             "size": 10,
             "solidity": 0.2
            },
            "type": "scatter"
           }
          ],
          "scatter3d": [
           {
            "line": {
             "colorbar": {
              "outlinewidth": 0,
              "ticks": ""
             }
            },
            "marker": {
             "colorbar": {
              "outlinewidth": 0,
              "ticks": ""
             }
            },
            "type": "scatter3d"
           }
          ],
          "scattercarpet": [
           {
            "marker": {
             "colorbar": {
              "outlinewidth": 0,
              "ticks": ""
             }
            },
            "type": "scattercarpet"
           }
          ],
          "scattergeo": [
           {
            "marker": {
             "colorbar": {
              "outlinewidth": 0,
              "ticks": ""
             }
            },
            "type": "scattergeo"
           }
          ],
          "scattergl": [
           {
            "marker": {
             "colorbar": {
              "outlinewidth": 0,
              "ticks": ""
             }
            },
            "type": "scattergl"
           }
          ],
          "scattermapbox": [
           {
            "marker": {
             "colorbar": {
              "outlinewidth": 0,
              "ticks": ""
             }
            },
            "type": "scattermapbox"
           }
          ],
          "scatterpolar": [
           {
            "marker": {
             "colorbar": {
              "outlinewidth": 0,
              "ticks": ""
             }
            },
            "type": "scatterpolar"
           }
          ],
          "scatterpolargl": [
           {
            "marker": {
             "colorbar": {
              "outlinewidth": 0,
              "ticks": ""
             }
            },
            "type": "scatterpolargl"
           }
          ],
          "scatterternary": [
           {
            "marker": {
             "colorbar": {
              "outlinewidth": 0,
              "ticks": ""
             }
            },
            "type": "scatterternary"
           }
          ],
          "surface": [
           {
            "colorbar": {
             "outlinewidth": 0,
             "ticks": ""
            },
            "colorscale": [
             [
              0,
              "#0d0887"
             ],
             [
              0.1111111111111111,
              "#46039f"
             ],
             [
              0.2222222222222222,
              "#7201a8"
             ],
             [
              0.3333333333333333,
              "#9c179e"
             ],
             [
              0.4444444444444444,
              "#bd3786"
             ],
             [
              0.5555555555555556,
              "#d8576b"
             ],
             [
              0.6666666666666666,
              "#ed7953"
             ],
             [
              0.7777777777777778,
              "#fb9f3a"
             ],
             [
              0.8888888888888888,
              "#fdca26"
             ],
             [
              1,
              "#f0f921"
             ]
            ],
            "type": "surface"
           }
          ],
          "table": [
           {
            "cells": {
             "fill": {
              "color": "#EBF0F8"
             },
             "line": {
              "color": "white"
             }
            },
            "header": {
             "fill": {
              "color": "#C8D4E3"
             },
             "line": {
              "color": "white"
             }
            },
            "type": "table"
           }
          ]
         },
         "layout": {
          "annotationdefaults": {
           "arrowcolor": "#2a3f5f",
           "arrowhead": 0,
           "arrowwidth": 1
          },
          "autotypenumbers": "strict",
          "coloraxis": {
           "colorbar": {
            "outlinewidth": 0,
            "ticks": ""
           }
          },
          "colorscale": {
           "diverging": [
            [
             0,
             "#8e0152"
            ],
            [
             0.1,
             "#c51b7d"
            ],
            [
             0.2,
             "#de77ae"
            ],
            [
             0.3,
             "#f1b6da"
            ],
            [
             0.4,
             "#fde0ef"
            ],
            [
             0.5,
             "#f7f7f7"
            ],
            [
             0.6,
             "#e6f5d0"
            ],
            [
             0.7,
             "#b8e186"
            ],
            [
             0.8,
             "#7fbc41"
            ],
            [
             0.9,
             "#4d9221"
            ],
            [
             1,
             "#276419"
            ]
           ],
           "sequential": [
            [
             0,
             "#0d0887"
            ],
            [
             0.1111111111111111,
             "#46039f"
            ],
            [
             0.2222222222222222,
             "#7201a8"
            ],
            [
             0.3333333333333333,
             "#9c179e"
            ],
            [
             0.4444444444444444,
             "#bd3786"
            ],
            [
             0.5555555555555556,
             "#d8576b"
            ],
            [
             0.6666666666666666,
             "#ed7953"
            ],
            [
             0.7777777777777778,
             "#fb9f3a"
            ],
            [
             0.8888888888888888,
             "#fdca26"
            ],
            [
             1,
             "#f0f921"
            ]
           ],
           "sequentialminus": [
            [
             0,
             "#0d0887"
            ],
            [
             0.1111111111111111,
             "#46039f"
            ],
            [
             0.2222222222222222,
             "#7201a8"
            ],
            [
             0.3333333333333333,
             "#9c179e"
            ],
            [
             0.4444444444444444,
             "#bd3786"
            ],
            [
             0.5555555555555556,
             "#d8576b"
            ],
            [
             0.6666666666666666,
             "#ed7953"
            ],
            [
             0.7777777777777778,
             "#fb9f3a"
            ],
            [
             0.8888888888888888,
             "#fdca26"
            ],
            [
             1,
             "#f0f921"
            ]
           ]
          },
          "colorway": [
           "#636efa",
           "#EF553B",
           "#00cc96",
           "#ab63fa",
           "#FFA15A",
           "#19d3f3",
           "#FF6692",
           "#B6E880",
           "#FF97FF",
           "#FECB52"
          ],
          "font": {
           "color": "#2a3f5f"
          },
          "geo": {
           "bgcolor": "white",
           "lakecolor": "white",
           "landcolor": "#E5ECF6",
           "showlakes": true,
           "showland": true,
           "subunitcolor": "white"
          },
          "hoverlabel": {
           "align": "left"
          },
          "hovermode": "closest",
          "mapbox": {
           "style": "light"
          },
          "paper_bgcolor": "white",
          "plot_bgcolor": "#E5ECF6",
          "polar": {
           "angularaxis": {
            "gridcolor": "white",
            "linecolor": "white",
            "ticks": ""
           },
           "bgcolor": "#E5ECF6",
           "radialaxis": {
            "gridcolor": "white",
            "linecolor": "white",
            "ticks": ""
           }
          },
          "scene": {
           "xaxis": {
            "backgroundcolor": "#E5ECF6",
            "gridcolor": "white",
            "gridwidth": 2,
            "linecolor": "white",
            "showbackground": true,
            "ticks": "",
            "zerolinecolor": "white"
           },
           "yaxis": {
            "backgroundcolor": "#E5ECF6",
            "gridcolor": "white",
            "gridwidth": 2,
            "linecolor": "white",
            "showbackground": true,
            "ticks": "",
            "zerolinecolor": "white"
           },
           "zaxis": {
            "backgroundcolor": "#E5ECF6",
            "gridcolor": "white",
            "gridwidth": 2,
            "linecolor": "white",
            "showbackground": true,
            "ticks": "",
            "zerolinecolor": "white"
           }
          },
          "shapedefaults": {
           "line": {
            "color": "#2a3f5f"
           }
          },
          "ternary": {
           "aaxis": {
            "gridcolor": "white",
            "linecolor": "white",
            "ticks": ""
           },
           "baxis": {
            "gridcolor": "white",
            "linecolor": "white",
            "ticks": ""
           },
           "bgcolor": "#E5ECF6",
           "caxis": {
            "gridcolor": "white",
            "linecolor": "white",
            "ticks": ""
           }
          },
          "title": {
           "x": 0.05
          },
          "xaxis": {
           "automargin": true,
           "gridcolor": "white",
           "linecolor": "white",
           "ticks": "",
           "title": {
            "standoff": 15
           },
           "zerolinecolor": "white",
           "zerolinewidth": 2
          },
          "yaxis": {
           "automargin": true,
           "gridcolor": "white",
           "linecolor": "white",
           "ticks": "",
           "title": {
            "standoff": 15
           },
           "zerolinecolor": "white",
           "zerolinewidth": 2
          }
         }
        },
        "title": {
         "pad": {
          "b": 60
         },
         "text": "Cities according to their Sales ",
         "x": 0.5,
         "xanchor": "center",
         "y": 0.9,
         "yanchor": "bottom",
         "yref": "paper"
        }
       }
      },
      "text/html": [
       "<div>                            <div id=\"650e95fd-baf2-4f0f-a77f-2c60eef6b3e6\" class=\"plotly-graph-div\" style=\"height:525px; width:100%;\"></div>            <script type=\"text/javascript\">                require([\"plotly\"], function(Plotly) {                    window.PLOTLYENV=window.PLOTLYENV || {};                                    if (document.getElementById(\"650e95fd-baf2-4f0f-a77f-2c60eef6b3e6\")) {                    Plotly.newPlot(                        \"650e95fd-baf2-4f0f-a77f-2c60eef6b3e6\",                        [{\"geo\":\"geo\",\"hovertemplate\":\"<b>%{hovertext}</b><br><br>iso_alpha=DNK<br>SALES=%{marker.size}<br>latitude=%{lat}<br>longitude=%{lon}<extra></extra>\",\"hovertext\":[\"Aaarhus\",\"Kobenhavn\"],\"lat\":[56.1629,55.6761],\"legendgroup\":\"DNK\",\"lon\":[10.2039,12.5683],\"marker\":{\"color\":\"#636efa\",\"size\":[100595.55,145041.6],\"sizemode\":\"area\",\"sizeref\":2706.3786,\"symbol\":\"circle\"},\"mode\":\"markers\",\"name\":\"DNK\",\"showlegend\":true,\"type\":\"scattergeo\"},{\"geo\":\"geo\",\"hovertemplate\":\"<b>%{hovertext}</b><br><br>iso_alpha=USA<br>SALES=%{marker.size}<br>latitude=%{lat}<br>longitude=%{lon}<extra></extra>\",\"hovertext\":[\"Allentown\",\"Boston\",\"Brickhaven\",\"Bridgewater\",\"Burbank\",\"Burlingame\",\"Cambridge\",\"Glendale\",\"Las Vegas\",\"Los Angeles\",\"NYC\",\"Nashua\",\"New Bedford\",\"New Haven\",\"Newark\",\"Pasadena\",\"Philadelphia\",\"San Diego\",\"San Francisco\",\"San Jose\",\"San Rafael\",\"White Plains\"],\"lat\":[40.6023,42.3601,35.7915,40.5842,34.1808,37.5841,42.3736,34.1425,36.1699,34.0522,40.7128,42.7654,41.6362,41.3083,40.7357,34.1478,39.9526,32.7157,37.7749,37.3382,37.9735,41.0339],\"legendgroup\":\"USA\",\"lon\":[-75.4714,-71.0589,-78.8067,-74.6248,-118.3089,-122.3661,-71.1097,-118.2551,-115.1398,-118.2437,-74.006,-71.4676,-70.9342,-72.9279,-74.1724,-118.1445,-75.1652,-117.1611,-122.4194,-121.8863,-122.5311,-73.7629],\"marker\":{\"color\":\"#EF553B\",\"size\":[122138.14,154069.66,165255.2,101894.79,46084.64,120783.07,139244.0,66423.77,82751.08,48048.46,560787.77,131685.3,207874.86,79472.07,83228.19,104561.96,151189.13,87489.23,224358.68,160010.27,654858.06,85555.99],\"sizemode\":\"area\",\"sizeref\":2706.3786,\"symbol\":\"circle\"},\"mode\":\"markers\",\"name\":\"USA\",\"showlegend\":true,\"type\":\"scattergeo\"},{\"geo\":\"geo\",\"hovertemplate\":\"<b>%{hovertext}</b><br><br>iso_alpha=ESP<br>SALES=%{marker.size}<br>latitude=%{lat}<br>longitude=%{lon}<extra></extra>\",\"hovertext\":[\"Barcelona\",\"Madrid\",\"Sevilla\"],\"lat\":[41.3851,40.4168,37.3891],\"legendgroup\":\"ESP\",\"lon\":[2.1734,-3.7038,-5.9845],\"marker\":{\"color\":\"#00cc96\",\"size\":[78411.86,1082551.44,54723.62],\"sizemode\":\"area\",\"sizeref\":2706.3786,\"symbol\":\"circle\"},\"mode\":\"markers\",\"name\":\"ESP\",\"showlegend\":true,\"type\":\"scattergeo\"},{\"geo\":\"geo\",\"hovertemplate\":\"<b>%{hovertext}</b><br><br>iso_alpha=ITA<br>SALES=%{marker.size}<br>latitude=%{lat}<br>longitude=%{lon}<extra></extra>\",\"hovertext\":[\"Bergamo\",\"Reggio Emilia\",\"Torino\"],\"lat\":[45.6983,44.6983,45.0703],\"legendgroup\":\"ITA\",\"lon\":[9.6773,10.6313,7.6869],\"marker\":{\"color\":\"#ab63fa\",\"size\":[137955.72,142601.33,94117.26],\"sizemode\":\"area\",\"sizeref\":2706.3786,\"symbol\":\"circle\"},\"mode\":\"markers\",\"name\":\"ITA\",\"showlegend\":true,\"type\":\"scattergeo\"},{\"geo\":\"geo\",\"hovertemplate\":\"<b>%{hovertext}</b><br><br>iso_alpha=NOR<br>SALES=%{marker.size}<br>latitude=%{lat}<br>longitude=%{lon}<extra></extra>\",\"hovertext\":[\"Bergen\",\"Oslo\",\"Stavern\"],\"lat\":[60.3913,59.9139,59.0298],\"legendgroup\":\"NOR\",\"lon\":[5.3221,10.7522,10.0361],\"marker\":{\"color\":\"#FFA15A\",\"size\":[111640.28,79224.23,116599.19],\"sizemode\":\"area\",\"sizeref\":2706.3786,\"symbol\":\"circle\"},\"mode\":\"markers\",\"name\":\"NOR\",\"showlegend\":true,\"type\":\"scattergeo\"},{\"geo\":\"geo\",\"hovertemplate\":\"<b>%{hovertext}</b><br><br>iso_alpha=SWE<br>SALES=%{marker.size}<br>latitude=%{lat}<br>longitude=%{lon}<extra></extra>\",\"hovertext\":[\"Boras\",\"Lule\"],\"lat\":[57.721,65.5848],\"legendgroup\":\"SWE\",\"lon\":[12.9401,22.1567],\"marker\":{\"color\":\"#19d3f3\",\"size\":[134259.33,75754.88],\"sizemode\":\"area\",\"sizeref\":2706.3786,\"symbol\":\"circle\"},\"mode\":\"markers\",\"name\":\"SWE\",\"showlegend\":true,\"type\":\"scattergeo\"},{\"geo\":\"geo\",\"hovertemplate\":\"<b>%{hovertext}</b><br><br>iso_alpha=AUS<br>SALES=%{marker.size}<br>latitude=%{lat}<br>longitude=%{lon}<extra></extra>\",\"hovertext\":[\"Brisbane\",\"Chatswood\",\"Glen Waverly\",\"Melbourne\",\"North Sydney\",\"South Brisbane\"],\"lat\":[-27.4698,-33.7956,-37.8802,-37.8136,-33.8393,-27.4848],\"legendgroup\":\"AUS\",\"lon\":[153.0251,151.1831,145.1636,144.9631,151.2071,153.0281],\"marker\":{\"color\":\"#FF6692\",\"size\":[50218.51,151570.98,64591.46,200995.41,153996.13,59469.12],\"sizemode\":\"area\",\"sizeref\":2706.3786,\"symbol\":\"circle\"},\"mode\":\"markers\",\"name\":\"AUS\",\"showlegend\":true,\"type\":\"scattergeo\"},{\"geo\":\"geo\",\"hovertemplate\":\"<b>%{hovertext}</b><br><br>iso_alpha=BEL<br>SALES=%{marker.size}<br>latitude=%{lat}<br>longitude=%{lon}<extra></extra>\",\"hovertext\":[\"Bruxelles\",\"Charleroi\"],\"lat\":[50.8503,50.4108],\"legendgroup\":\"BEL\",\"lon\":[4.3517,4.4446],\"marker\":{\"color\":\"#B6E880\",\"size\":[74972.52,33440.1],\"sizemode\":\"area\",\"sizeref\":2706.3786,\"symbol\":\"circle\"},\"mode\":\"markers\",\"name\":\"BEL\",\"showlegend\":true,\"type\":\"scattergeo\"},{\"geo\":\"geo\",\"hovertemplate\":\"<b>%{hovertext}</b><br><br>iso_alpha=GBR<br>SALES=%{marker.size}<br>latitude=%{lat}<br>longitude=%{lon}<extra></extra>\",\"hovertext\":[\"Cowes\",\"Liverpool\",\"London\",\"Manchester\"],\"lat\":[50.7659,53.4084,51.5074,53.4831],\"legendgroup\":\"GBR\",\"lon\":[-1.2974,-2.9916,-0.1278,-2.2373],\"marker\":{\"color\":\"#FF97FF\",\"size\":[78240.84,118008.27,124823.54,157807.81],\"sizemode\":\"area\",\"sizeref\":2706.3786,\"symbol\":\"circle\"},\"mode\":\"markers\",\"name\":\"GBR\",\"showlegend\":true,\"type\":\"scattergeo\"},{\"geo\":\"geo\",\"hovertemplate\":\"<b>%{hovertext}</b><br><br>iso_alpha=IRL<br>SALES=%{marker.size}<br>latitude=%{lat}<br>longitude=%{lon}<extra></extra>\",\"hovertext\":[\"Dublin\"],\"lat\":[53.3498],\"legendgroup\":\"IRL\",\"lon\":[-6.2603],\"marker\":{\"color\":\"#FECB52\",\"size\":[57756.43],\"sizemode\":\"area\",\"sizeref\":2706.3786,\"symbol\":\"circle\"},\"mode\":\"markers\",\"name\":\"IRL\",\"showlegend\":true,\"type\":\"scattergeo\"},{\"geo\":\"geo\",\"hovertemplate\":\"<b>%{hovertext}</b><br><br>iso_alpha=FIN<br>SALES=%{marker.size}<br>latitude=%{lat}<br>longitude=%{lon}<extra></extra>\",\"hovertext\":[\"Espoo\",\"Helsinki\",\"Oulu\"],\"lat\":[60.2055,60.1699,65.0121],\"legendgroup\":\"FIN\",\"lon\":[24.6559,24.9384,25.4651],\"marker\":{\"color\":\"#636efa\",\"size\":[113961.15,111250.38,104370.38],\"sizemode\":\"area\",\"sizeref\":2706.3786,\"symbol\":\"circle\"},\"mode\":\"markers\",\"name\":\"FIN\",\"showlegend\":true,\"type\":\"scattergeo\"},{\"geo\":\"geo\",\"hovertemplate\":\"<b>%{hovertext}</b><br><br>iso_alpha=DEU<br>SALES=%{marker.size}<br>latitude=%{lat}<br>longitude=%{lon}<extra></extra>\",\"hovertext\":[\"Frankfurt\",\"Koln\",\"Munich\"],\"lat\":[50.1109,50.9375,48.1351],\"legendgroup\":\"DEU\",\"lon\":[8.6821,6.9603,11.582],\"marker\":{\"color\":\"#EF553B\",\"size\":[85171.59,100306.58,34993.92],\"sizemode\":\"area\",\"sizeref\":2706.3786,\"symbol\":\"circle\"},\"mode\":\"markers\",\"name\":\"DEU\",\"showlegend\":true,\"type\":\"scattergeo\"},{\"geo\":\"geo\",\"hovertemplate\":\"<b>%{hovertext}</b><br><br>iso_alpha=CHE<br>SALES=%{marker.size}<br>latitude=%{lat}<br>longitude=%{lon}<extra></extra>\",\"hovertext\":[\"Gensve\"],\"lat\":[46.2044],\"legendgroup\":\"CHE\",\"lon\":[6.1432],\"marker\":{\"color\":\"#00cc96\",\"size\":[117713.56],\"sizemode\":\"area\",\"sizeref\":2706.3786,\"symbol\":\"circle\"},\"mode\":\"markers\",\"name\":\"CHE\",\"showlegend\":true,\"type\":\"scattergeo\"},{\"geo\":\"geo\",\"hovertemplate\":\"<b>%{hovertext}</b><br><br>iso_alpha=AUT<br>SALES=%{marker.size}<br>latitude=%{lat}<br>longitude=%{lon}<extra></extra>\",\"hovertext\":[\"Graz\",\"Salzburg\"],\"lat\":[47.0707,47.8087],\"legendgroup\":\"AUT\",\"lon\":[15.4395,13.055],\"marker\":{\"color\":\"#ab63fa\",\"size\":[52263.9,149798.63],\"sizemode\":\"area\",\"sizeref\":2706.3786,\"symbol\":\"circle\"},\"mode\":\"markers\",\"name\":\"AUT\",\"showlegend\":true,\"type\":\"scattergeo\"},{\"geo\":\"geo\",\"hovertemplate\":\"<b>%{hovertext}</b><br><br>iso_alpha=FRA<br>SALES=%{marker.size}<br>latitude=%{lat}<br>longitude=%{lon}<extra></extra>\",\"hovertext\":[\"Lille\",\"Lyon\",\"Marseille\",\"Nantes\",\"Paris\",\"Reims\",\"Strasbourg\",\"Toulouse\",\"Versailles\"],\"lat\":[50.6292,45.75,43.2965,47.2184,48.8566,49.2583,48.5839,43.6047,48.8014],\"legendgroup\":\"FRA\",\"lon\":[3.0573,4.85,5.3698,-1.5536,2.3522,4.0317,7.7455,1.4442,2.1301],\"marker\":{\"color\":\"#FFA15A\",\"size\":[69052.41,142874.25,74936.14,204304.86,268944.68,135042.94,80438.48,70488.44,64834.32],\"sizemode\":\"area\",\"sizeref\":2706.3786,\"symbol\":\"circle\"},\"mode\":\"markers\",\"name\":\"FRA\",\"showlegend\":true,\"type\":\"scattergeo\"},{\"geo\":\"geo\",\"hovertemplate\":\"<b>%{hovertext}</b><br><br>iso_alpha=PHL<br>SALES=%{marker.size}<br>latitude=%{lat}<br>longitude=%{lon}<extra></extra>\",\"hovertext\":[\"Makati City\"],\"lat\":[14.5547],\"legendgroup\":\"PHL\",\"lon\":[121.0244],\"marker\":{\"color\":\"#19d3f3\",\"size\":[94015.73],\"sizemode\":\"area\",\"sizeref\":2706.3786,\"symbol\":\"circle\"},\"mode\":\"markers\",\"name\":\"PHL\",\"showlegend\":true,\"type\":\"scattergeo\"},{\"geo\":\"geo\",\"hovertemplate\":\"<b>%{hovertext}</b><br><br>iso_alpha=JPN<br>SALES=%{marker.size}<br>latitude=%{lat}<br>longitude=%{lon}<extra></extra>\",\"hovertext\":[\"Minato-ku\",\"Osaka\"],\"lat\":[35.6581,34.6937],\"legendgroup\":\"JPN\",\"lon\":[139.7514,135.5023],\"marker\":{\"color\":\"#FF6692\",\"size\":[120562.74,67605.07],\"sizemode\":\"area\",\"sizeref\":2706.3786,\"symbol\":\"circle\"},\"mode\":\"markers\",\"name\":\"JPN\",\"showlegend\":true,\"type\":\"scattergeo\"},{\"geo\":\"geo\",\"hovertemplate\":\"<b>%{hovertext}</b><br><br>iso_alpha=CAN<br>SALES=%{marker.size}<br>latitude=%{lat}<br>longitude=%{lon}<extra></extra>\",\"hovertext\":[\"Montreal\",\"Tsawassen\",\"Vancouver\"],\"lat\":[45.5017,49.0079,49.2827],\"legendgroup\":\"CAN\",\"lon\":[-73.5673,-123.0946,-123.1207],\"marker\":{\"color\":\"#B6E880\",\"size\":[74204.79,74634.85,75238.92],\"sizemode\":\"area\",\"sizeref\":2706.3786,\"symbol\":\"circle\"},\"mode\":\"markers\",\"name\":\"CAN\",\"showlegend\":true,\"type\":\"scattergeo\"},{\"geo\":\"geo\",\"hovertemplate\":\"<b>%{hovertext}</b><br><br>iso_alpha=SGP<br>SALES=%{marker.size}<br>latitude=%{lat}<br>longitude=%{lon}<extra></extra>\",\"hovertext\":[\"Singapore\"],\"lat\":[1.3521],\"legendgroup\":\"SGP\",\"lon\":[103.8198],\"marker\":{\"color\":\"#FF97FF\",\"size\":[288488.41],\"sizemode\":\"area\",\"sizeref\":2706.3786,\"symbol\":\"circle\"},\"mode\":\"markers\",\"name\":\"SGP\",\"showlegend\":true,\"type\":\"scattergeo\"}],                        {\"template\":{\"data\":{\"histogram2dcontour\":[{\"type\":\"histogram2dcontour\",\"colorbar\":{\"outlinewidth\":0,\"ticks\":\"\"},\"colorscale\":[[0.0,\"#0d0887\"],[0.1111111111111111,\"#46039f\"],[0.2222222222222222,\"#7201a8\"],[0.3333333333333333,\"#9c179e\"],[0.4444444444444444,\"#bd3786\"],[0.5555555555555556,\"#d8576b\"],[0.6666666666666666,\"#ed7953\"],[0.7777777777777778,\"#fb9f3a\"],[0.8888888888888888,\"#fdca26\"],[1.0,\"#f0f921\"]]}],\"choropleth\":[{\"type\":\"choropleth\",\"colorbar\":{\"outlinewidth\":0,\"ticks\":\"\"}}],\"histogram2d\":[{\"type\":\"histogram2d\",\"colorbar\":{\"outlinewidth\":0,\"ticks\":\"\"},\"colorscale\":[[0.0,\"#0d0887\"],[0.1111111111111111,\"#46039f\"],[0.2222222222222222,\"#7201a8\"],[0.3333333333333333,\"#9c179e\"],[0.4444444444444444,\"#bd3786\"],[0.5555555555555556,\"#d8576b\"],[0.6666666666666666,\"#ed7953\"],[0.7777777777777778,\"#fb9f3a\"],[0.8888888888888888,\"#fdca26\"],[1.0,\"#f0f921\"]]}],\"heatmap\":[{\"type\":\"heatmap\",\"colorbar\":{\"outlinewidth\":0,\"ticks\":\"\"},\"colorscale\":[[0.0,\"#0d0887\"],[0.1111111111111111,\"#46039f\"],[0.2222222222222222,\"#7201a8\"],[0.3333333333333333,\"#9c179e\"],[0.4444444444444444,\"#bd3786\"],[0.5555555555555556,\"#d8576b\"],[0.6666666666666666,\"#ed7953\"],[0.7777777777777778,\"#fb9f3a\"],[0.8888888888888888,\"#fdca26\"],[1.0,\"#f0f921\"]]}],\"heatmapgl\":[{\"type\":\"heatmapgl\",\"colorbar\":{\"outlinewidth\":0,\"ticks\":\"\"},\"colorscale\":[[0.0,\"#0d0887\"],[0.1111111111111111,\"#46039f\"],[0.2222222222222222,\"#7201a8\"],[0.3333333333333333,\"#9c179e\"],[0.4444444444444444,\"#bd3786\"],[0.5555555555555556,\"#d8576b\"],[0.6666666666666666,\"#ed7953\"],[0.7777777777777778,\"#fb9f3a\"],[0.8888888888888888,\"#fdca26\"],[1.0,\"#f0f921\"]]}],\"contourcarpet\":[{\"type\":\"contourcarpet\",\"colorbar\":{\"outlinewidth\":0,\"ticks\":\"\"}}],\"contour\":[{\"type\":\"contour\",\"colorbar\":{\"outlinewidth\":0,\"ticks\":\"\"},\"colorscale\":[[0.0,\"#0d0887\"],[0.1111111111111111,\"#46039f\"],[0.2222222222222222,\"#7201a8\"],[0.3333333333333333,\"#9c179e\"],[0.4444444444444444,\"#bd3786\"],[0.5555555555555556,\"#d8576b\"],[0.6666666666666666,\"#ed7953\"],[0.7777777777777778,\"#fb9f3a\"],[0.8888888888888888,\"#fdca26\"],[1.0,\"#f0f921\"]]}],\"surface\":[{\"type\":\"surface\",\"colorbar\":{\"outlinewidth\":0,\"ticks\":\"\"},\"colorscale\":[[0.0,\"#0d0887\"],[0.1111111111111111,\"#46039f\"],[0.2222222222222222,\"#7201a8\"],[0.3333333333333333,\"#9c179e\"],[0.4444444444444444,\"#bd3786\"],[0.5555555555555556,\"#d8576b\"],[0.6666666666666666,\"#ed7953\"],[0.7777777777777778,\"#fb9f3a\"],[0.8888888888888888,\"#fdca26\"],[1.0,\"#f0f921\"]]}],\"mesh3d\":[{\"type\":\"mesh3d\",\"colorbar\":{\"outlinewidth\":0,\"ticks\":\"\"}}],\"scatter\":[{\"fillpattern\":{\"fillmode\":\"overlay\",\"size\":10,\"solidity\":0.2},\"type\":\"scatter\"}],\"parcoords\":[{\"type\":\"parcoords\",\"line\":{\"colorbar\":{\"outlinewidth\":0,\"ticks\":\"\"}}}],\"scatterpolargl\":[{\"type\":\"scatterpolargl\",\"marker\":{\"colorbar\":{\"outlinewidth\":0,\"ticks\":\"\"}}}],\"bar\":[{\"error_x\":{\"color\":\"#2a3f5f\"},\"error_y\":{\"color\":\"#2a3f5f\"},\"marker\":{\"line\":{\"color\":\"#E5ECF6\",\"width\":0.5},\"pattern\":{\"fillmode\":\"overlay\",\"size\":10,\"solidity\":0.2}},\"type\":\"bar\"}],\"scattergeo\":[{\"type\":\"scattergeo\",\"marker\":{\"colorbar\":{\"outlinewidth\":0,\"ticks\":\"\"}}}],\"scatterpolar\":[{\"type\":\"scatterpolar\",\"marker\":{\"colorbar\":{\"outlinewidth\":0,\"ticks\":\"\"}}}],\"histogram\":[{\"marker\":{\"pattern\":{\"fillmode\":\"overlay\",\"size\":10,\"solidity\":0.2}},\"type\":\"histogram\"}],\"scattergl\":[{\"type\":\"scattergl\",\"marker\":{\"colorbar\":{\"outlinewidth\":0,\"ticks\":\"\"}}}],\"scatter3d\":[{\"type\":\"scatter3d\",\"line\":{\"colorbar\":{\"outlinewidth\":0,\"ticks\":\"\"}},\"marker\":{\"colorbar\":{\"outlinewidth\":0,\"ticks\":\"\"}}}],\"scattermapbox\":[{\"type\":\"scattermapbox\",\"marker\":{\"colorbar\":{\"outlinewidth\":0,\"ticks\":\"\"}}}],\"scatterternary\":[{\"type\":\"scatterternary\",\"marker\":{\"colorbar\":{\"outlinewidth\":0,\"ticks\":\"\"}}}],\"scattercarpet\":[{\"type\":\"scattercarpet\",\"marker\":{\"colorbar\":{\"outlinewidth\":0,\"ticks\":\"\"}}}],\"carpet\":[{\"aaxis\":{\"endlinecolor\":\"#2a3f5f\",\"gridcolor\":\"white\",\"linecolor\":\"white\",\"minorgridcolor\":\"white\",\"startlinecolor\":\"#2a3f5f\"},\"baxis\":{\"endlinecolor\":\"#2a3f5f\",\"gridcolor\":\"white\",\"linecolor\":\"white\",\"minorgridcolor\":\"white\",\"startlinecolor\":\"#2a3f5f\"},\"type\":\"carpet\"}],\"table\":[{\"cells\":{\"fill\":{\"color\":\"#EBF0F8\"},\"line\":{\"color\":\"white\"}},\"header\":{\"fill\":{\"color\":\"#C8D4E3\"},\"line\":{\"color\":\"white\"}},\"type\":\"table\"}],\"barpolar\":[{\"marker\":{\"line\":{\"color\":\"#E5ECF6\",\"width\":0.5},\"pattern\":{\"fillmode\":\"overlay\",\"size\":10,\"solidity\":0.2}},\"type\":\"barpolar\"}],\"pie\":[{\"automargin\":true,\"type\":\"pie\"}]},\"layout\":{\"autotypenumbers\":\"strict\",\"colorway\":[\"#636efa\",\"#EF553B\",\"#00cc96\",\"#ab63fa\",\"#FFA15A\",\"#19d3f3\",\"#FF6692\",\"#B6E880\",\"#FF97FF\",\"#FECB52\"],\"font\":{\"color\":\"#2a3f5f\"},\"hovermode\":\"closest\",\"hoverlabel\":{\"align\":\"left\"},\"paper_bgcolor\":\"white\",\"plot_bgcolor\":\"#E5ECF6\",\"polar\":{\"bgcolor\":\"#E5ECF6\",\"angularaxis\":{\"gridcolor\":\"white\",\"linecolor\":\"white\",\"ticks\":\"\"},\"radialaxis\":{\"gridcolor\":\"white\",\"linecolor\":\"white\",\"ticks\":\"\"}},\"ternary\":{\"bgcolor\":\"#E5ECF6\",\"aaxis\":{\"gridcolor\":\"white\",\"linecolor\":\"white\",\"ticks\":\"\"},\"baxis\":{\"gridcolor\":\"white\",\"linecolor\":\"white\",\"ticks\":\"\"},\"caxis\":{\"gridcolor\":\"white\",\"linecolor\":\"white\",\"ticks\":\"\"}},\"coloraxis\":{\"colorbar\":{\"outlinewidth\":0,\"ticks\":\"\"}},\"colorscale\":{\"sequential\":[[0.0,\"#0d0887\"],[0.1111111111111111,\"#46039f\"],[0.2222222222222222,\"#7201a8\"],[0.3333333333333333,\"#9c179e\"],[0.4444444444444444,\"#bd3786\"],[0.5555555555555556,\"#d8576b\"],[0.6666666666666666,\"#ed7953\"],[0.7777777777777778,\"#fb9f3a\"],[0.8888888888888888,\"#fdca26\"],[1.0,\"#f0f921\"]],\"sequentialminus\":[[0.0,\"#0d0887\"],[0.1111111111111111,\"#46039f\"],[0.2222222222222222,\"#7201a8\"],[0.3333333333333333,\"#9c179e\"],[0.4444444444444444,\"#bd3786\"],[0.5555555555555556,\"#d8576b\"],[0.6666666666666666,\"#ed7953\"],[0.7777777777777778,\"#fb9f3a\"],[0.8888888888888888,\"#fdca26\"],[1.0,\"#f0f921\"]],\"diverging\":[[0,\"#8e0152\"],[0.1,\"#c51b7d\"],[0.2,\"#de77ae\"],[0.3,\"#f1b6da\"],[0.4,\"#fde0ef\"],[0.5,\"#f7f7f7\"],[0.6,\"#e6f5d0\"],[0.7,\"#b8e186\"],[0.8,\"#7fbc41\"],[0.9,\"#4d9221\"],[1,\"#276419\"]]},\"xaxis\":{\"gridcolor\":\"white\",\"linecolor\":\"white\",\"ticks\":\"\",\"title\":{\"standoff\":15},\"zerolinecolor\":\"white\",\"automargin\":true,\"zerolinewidth\":2},\"yaxis\":{\"gridcolor\":\"white\",\"linecolor\":\"white\",\"ticks\":\"\",\"title\":{\"standoff\":15},\"zerolinecolor\":\"white\",\"automargin\":true,\"zerolinewidth\":2},\"scene\":{\"xaxis\":{\"backgroundcolor\":\"#E5ECF6\",\"gridcolor\":\"white\",\"linecolor\":\"white\",\"showbackground\":true,\"ticks\":\"\",\"zerolinecolor\":\"white\",\"gridwidth\":2},\"yaxis\":{\"backgroundcolor\":\"#E5ECF6\",\"gridcolor\":\"white\",\"linecolor\":\"white\",\"showbackground\":true,\"ticks\":\"\",\"zerolinecolor\":\"white\",\"gridwidth\":2},\"zaxis\":{\"backgroundcolor\":\"#E5ECF6\",\"gridcolor\":\"white\",\"linecolor\":\"white\",\"showbackground\":true,\"ticks\":\"\",\"zerolinecolor\":\"white\",\"gridwidth\":2}},\"shapedefaults\":{\"line\":{\"color\":\"#2a3f5f\"}},\"annotationdefaults\":{\"arrowcolor\":\"#2a3f5f\",\"arrowhead\":0,\"arrowwidth\":1},\"geo\":{\"bgcolor\":\"white\",\"landcolor\":\"#E5ECF6\",\"subunitcolor\":\"white\",\"showland\":true,\"showlakes\":true,\"lakecolor\":\"white\"},\"title\":{\"x\":0.05},\"mapbox\":{\"style\":\"light\"}}},\"geo\":{\"domain\":{\"x\":[0.0,1.0],\"y\":[0.0,1.0]},\"center\":{}},\"legend\":{\"title\":{\"text\":\"iso_alpha\"},\"tracegroupgap\":0,\"itemsizing\":\"constant\"},\"margin\":{\"t\":60},\"title\":{\"pad\":{\"b\":60},\"text\":\"Cities according to their Sales \",\"xanchor\":\"center\",\"x\":0.5,\"yref\":\"paper\",\"yanchor\":\"bottom\",\"y\":0.9}},                        {\"responsive\": true}                    ).then(function(){\n",
       "                            \n",
       "var gd = document.getElementById('650e95fd-baf2-4f0f-a77f-2c60eef6b3e6');\n",
       "var x = new MutationObserver(function (mutations, observer) {{\n",
       "        var display = window.getComputedStyle(gd).display;\n",
       "        if (!display || display === 'none') {{\n",
       "            console.log([gd, 'removed!']);\n",
       "            Plotly.purge(gd);\n",
       "            observer.disconnect();\n",
       "        }}\n",
       "}});\n",
       "\n",
       "// Listen for the removal of the full notebook cells\n",
       "var notebookContainer = gd.closest('#notebook-container');\n",
       "if (notebookContainer) {{\n",
       "    x.observe(notebookContainer, {childList: true});\n",
       "}}\n",
       "\n",
       "// Listen for the clearing of the current output cell\n",
       "var outputEl = gd.closest('.output');\n",
       "if (outputEl) {{\n",
       "    x.observe(outputEl, {childList: true});\n",
       "}}\n",
       "\n",
       "                        })                };                });            </script>        </div>"
      ]
     },
     "metadata": {},
     "output_type": "display_data"
    },
    {
     "data": {
      "text/plain": [
       "<Figure size 1600x1600 with 0 Axes>"
      ]
     },
     "metadata": {},
     "output_type": "display_data"
    }
   ],
   "source": [
    "# Set the width and height of the figure\n",
    "plt.figure(figsize=(16,16))\n",
    "\n",
    "# Plotting Scatter map using Plotly \n",
    "fig = px.scatter_geo(df_coordinates, lat='latitude', lon='longitude', color='iso_alpha',\n",
    "                     hover_name='CITY', size='SALES',\n",
    "                    )\n",
    "\n",
    "# Adding title and centering it\n",
    "fig.update_layout(  \n",
    "    title=dict(\n",
    "        text=\"Cities according to their Sales \",\n",
    "        xanchor='center',\n",
    "        x=0.5,\n",
    "        yref='paper',\n",
    "        yanchor='bottom',\n",
    "        y=0.9,\n",
    "        pad={'b': 60}\n",
    "    ),\n",
    "\n",
    ")\n",
    "fig.show()"
   ]
  },
  {
   "cell_type": "markdown",
   "id": "990762df",
   "metadata": {},
   "source": [
    "Observaciones:\n",
    "\n",
    "La ciudad de Madrid tuvo las mejores ventas del mundo seguida de San Rafael y Nueva York."
   ]
  },
  {
   "cell_type": "code",
   "execution_count": 54,
   "id": "257d3e82",
   "metadata": {},
   "outputs": [
    {
     "data": {
      "image/png": "[encoded data removed]",
      "text/plain": [
       "<Figure size 1000x800 with 1 Axes>"
      ]
     },
     "metadata": {},
     "output_type": "display_data"
    }
   ],
   "source": [
    "# Datos de ejemplo\n",
    "city_data = {\n",
    "    'CITY': ['Aaarhus', 'Allentown', 'Barcelona', 'Bergamo', 'Bergen', 'Toulouse', 'Tsawassen', 'Vancouver', 'Versailles', 'White Plains'],\n",
    "    'SALES': [100595.55, 122138.14, 78411.86, 137955.72, 111640.28, 70488.44, 74634.85, 75238.92, 64834.32, 85555.99],\n",
    "    'iso_alpha': ['DNK', 'USA', 'ESP', 'ITA', 'NOR', 'FRA', 'CAN', 'CAN', 'FRA', 'USA'],\n",
    "    'latitude': [56.1629, 40.6023, 41.3851, 45.6983, 60.3913, 43.6047, 49.0079, 49.2827, 48.8014, 41.0339],\n",
    "    'longitude': [10.2039, -75.4714, 2.1734, 9.6773, 5.3221, 1.4442, -123.0946, -123.1207, 2.1301, -73.7629]\n",
    "}\n",
    "\n",
    "# Crear un gráfico de dispersión\n",
    "plt.figure(figsize=(10, 8))\n",
    "plt.scatter(df_coordinates['longitude'], df_coordinates['latitude'], s=df_coordinates['SALES'] / 5000, c='blue', alpha=0.5)\n",
    "\n",
    "# Añadir etiquetas y título\n",
    "plt.xlabel('Longitude')\n",
    "plt.ylabel('Latitude')\n",
    "plt.title('Sales Distribution by City')\n",
    "\n",
    "# Añadir etiquetas de ciudad a algunos puntos para mayor claridad\n",
    "for i, city in enumerate(city_data['CITY']):\n",
    "    if city in ['Barcelona', 'Bergen', 'Toulouse', 'Vancouver', 'White Plains']:\n",
    "        plt.annotate(city, (city_data['longitude'][i], city_data['latitude'][i]), textcoords=\"offset points\", xytext=(0, 5), ha='center')\n",
    "\n",
    "# Mostrar el gráfico\n",
    "plt.show()\n"
   ]
  },
  {
   "cell_type": "markdown",
   "id": "d7638bb6",
   "metadata": {},
   "source": [
    "Ciudades en las que mas se vende vs las que menos"
   ]
  },
  {
   "cell_type": "code",
   "execution_count": 52,
   "id": "ad88c439",
   "metadata": {},
   "outputs": [
    {
     "data": {
      "image/png": "[encoded data removed]",
      "text/plain": [
       "<Figure size 1200x600 with 1 Axes>"
      ]
     },
     "metadata": {},
     "output_type": "display_data"
    }
   ],
   "source": [
    "# Ordenar ciudades por ventas\n",
    "sorted_cities = sorted(city_data['CITY'], key=lambda x: city_data['SALES'][city_data['CITY'].index(x)])\n",
    "\n",
    "# Seleccionar las ciudades con más y menos ventas\n",
    "top_cities = sorted_cities[-5:]  # Las 5 ciudades con más ventas\n",
    "bottom_cities = sorted_cities[:5]  # Las 5 ciudades con menos ventas\n",
    "\n",
    "# Obtener las ventas correspondientes\n",
    "top_sales = [city_data['SALES'][city_data['CITY'].index(city)] for city in top_cities]\n",
    "bottom_sales = [city_data['SALES'][city_data['CITY'].index(city)] for city in bottom_cities]\n",
    "\n",
    "# Crear el gráfico comparativo\n",
    "plt.figure(figsize=(12, 6))\n",
    "\n",
    "plt.bar(top_cities, top_sales, color='green', label='Top 5 Cities')\n",
    "plt.bar(bottom_cities, bottom_sales, color='red', label='Bottom 5 Cities')\n",
    "\n",
    "plt.xlabel('City')\n",
    "plt.ylabel('Sales')\n",
    "plt.title('Comparison of Sales between Top and Bottom 5 Cities')\n",
    "plt.legend()\n",
    "\n",
    "plt.show()\n"
   ]
  },
  {
   "cell_type": "code",
   "execution_count": null,
   "id": "014e84dc",
   "metadata": {},
   "outputs": [],
   "source": [
    "\n"
   ]
  }
 ],
 "metadata": {
  "kernelspec": {
   "display_name": "Python 3 (ipykernel)",
   "language": "python",
   "name": "python3"
  },
  "language_info": {
   "codemirror_mode": {
    "name": "ipython",
    "version": 3
   },
   "file_extension": ".py",
   "mimetype": "text/x-python",
   "name": "python",
   "nbconvert_exporter": "python",
   "pygments_lexer": "ipython3",
   "version": "3.10.9"
  }
 },
 "nbformat": 4,
 "nbformat_minor": 5
}
